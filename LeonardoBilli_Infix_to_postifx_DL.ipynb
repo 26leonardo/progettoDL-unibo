{
  "cells": [
    {
      "cell_type": "markdown",
      "metadata": {
        "id": "uPFPtHankgU8"
      },
      "source": [
        "# Project Description:\n",
        "\n",
        "The purpose of this project is to implement a neural network that performs the translation of mathematical formulae from traditional **infix notation**—where the operator appears between two operands—to **postfix** (also known as Reverse Polish Notation), where the operator follows the operands.\n",
        "\n",
        "Infix notation is the most commonly used in human-readable mathematics (e.g., a + b), but it is inherently ambiguous without additional syntactic aids such as parentheses or operator precedence rules. This ambiguity arises because different parse trees can correspond to the same expression depending on how operations are grouped.\n",
        "\n",
        "In contrast, postfix notation eliminates the need for parentheses entirely. The order of operations is explicitly encoded by the position of the operators relative to the operands, making it more suitable for stack-based evaluation and easier to parse programmatically.\n",
        "\n",
        "**Example:**\n",
        "\n",
        "Consider the ambiguous infix expression:\n",
        "a + b * c\n",
        "\n",
        "This expression can be parsed in at least two different ways:\n",
        "\n",
        "Interpretation (Infix):\t(a + b) * c\t   \n",
        "Equivalent Postfix: ab+c*\n",
        "\n",
        "Interpretation (Infix):\ta + (b * c)\t          \n",
        "Equivalent Postfix: abc*+\n",
        "\n",
        "\n",
        "This project aims to learn such disambiguations and generate the correct postfix form from a given infix expression using a data-driven approach based on neural networks. To simplify the task and control the complexity of expressions, we restrict our dataset to formulae with a maximum syntactic depth of 3. This means that the abstract syntax trees representing these expressions will have at most three levels, ensuring that the neural network operates on a bounded and manageable set of possible structures."
      ]
    },
    {
      "cell_type": "markdown",
      "metadata": {},
      "source": [
        "# Import"
      ]
    },
    {
      "cell_type": "code",
      "execution_count": 1,
      "metadata": {
        "id": "i_tRkF6n6smU"
      },
      "outputs": [
        {
          "name": "stderr",
          "output_type": "stream",
          "text": [
            "WARNING: All log messages before absl::InitializeLog() is called are written to STDERR\n",
            "E0000 00:00:1749747661.866117 2889673 cuda_dnn.cc:8310] Unable to register cuDNN factory: Attempting to register factory for plugin cuDNN when one has already been registered\n",
            "E0000 00:00:1749747661.871321 2889673 cuda_blas.cc:1418] Unable to register cuBLAS factory: Attempting to register factory for plugin cuBLAS when one has already been registered\n"
          ]
        }
      ],
      "source": [
        "import os\n",
        "\n",
        "import random\n",
        "from collections import defaultdict\n",
        "import numpy as np\n",
        "import tensorflow as tf\n",
        "\n",
        "import tensorflow as tf\n",
        "from tensorflow.keras.layers import (\n",
        "    Input, Embedding, LSTM, Dense, AdditiveAttention, Concatenate\n",
        ")\n",
        "from tensorflow.keras.models import Model\n",
        "from tensorflow.keras.callbacks import EarlyStopping\n",
        "\n",
        "from sklearn.model_selection import train_test_split\n",
        "\n",
        "import string\n",
        "import matplotlib.pyplot as plt"
      ]
    },
    {
      "cell_type": "markdown",
      "metadata": {
        "id": "QFSHpEHjpa1x"
      },
      "source": [
        "We build formulae using 5 identifiers a,b,c,d,e and 4 binary operators +,-,*,/.\n",
        "For simplicity we do not take advantage of precedence or associativity rules for infix notation, and suppose that all binary operations as always fully parenthesizes: (e1 op e2)."
      ]
    },
    {
      "cell_type": "code",
      "execution_count": 2,
      "metadata": {
        "id": "IINM81OK61pH"
      },
      "outputs": [],
      "source": [
        "# -------------------- Constants --------------------\n",
        "OPERATORS = ['+', '-', '*', '/']\n",
        "IDENTIFIERS = list('abcde')\n",
        "SPECIAL_TOKENS = ['PAD', 'SOS', 'EOS']\n",
        "SYMBOLS = ['(', ')', '+', '-', '*', '/']\n",
        "VOCAB = SPECIAL_TOKENS + SYMBOLS + IDENTIFIERS + ['JUNK'] #may use junk in autoregressive generation\n",
        "\n",
        "token_to_id = {tok: i for i, tok in enumerate(VOCAB)}\n",
        "id_to_token = {i: tok for tok, i in token_to_id.items()}\n",
        "VOCAB_SIZE = len(VOCAB)\n",
        "PAD_ID = token_to_id['PAD']\n",
        "EOS_ID = token_to_id['EOS']\n",
        "SOS_ID = token_to_id['SOS']\n",
        "\n",
        "MAX_DEPTH = 3\n",
        "MAX_LEN = 4*2**MAX_DEPTH -2 #enough to fit expressions at given depth (+ EOS)"
      ]
    },
    {
      "cell_type": "code",
      "execution_count": 3,
      "metadata": {
        "id": "T-fO911d6_FW"
      },
      "outputs": [],
      "source": [
        "# -------------------- Expression Generation --------------------\n",
        "def generate_infix_expression(max_depth):\n",
        "    if max_depth == 0:\n",
        "        return random.choice(IDENTIFIERS)\n",
        "    elif random.random() < 0.5:\n",
        "        return generate_infix_expression(max_depth - 1)\n",
        "    else:\n",
        "        left = generate_infix_expression(max_depth - 1)\n",
        "        right = generate_infix_expression(max_depth - 1)\n",
        "        op = random.choice(OPERATORS)\n",
        "        return f'({left} {op} {right})'\n",
        "\n",
        "def tokenize(expr):\n",
        "    return [c for c in expr if c in token_to_id]\n",
        "\n",
        "def infix_to_postfix(tokens):\n",
        "    precedence = {'+': 1, '-': 1, '*': 2, '/': 2}\n",
        "    output, stack = [], []\n",
        "    for token in tokens:\n",
        "        if token in IDENTIFIERS:\n",
        "            output.append(token)\n",
        "        elif token in OPERATORS:\n",
        "            while stack and stack[-1] in OPERATORS and precedence[stack[-1]] >= precedence[token]:\n",
        "                output.append(stack.pop())\n",
        "            stack.append(token)\n",
        "        elif token == '(':\n",
        "            stack.append(token)\n",
        "        elif token == ')':\n",
        "            while stack and stack[-1] != '(':\n",
        "                output.append(stack.pop())\n",
        "            stack.pop()\n",
        "    while stack:\n",
        "        output.append(stack.pop())\n",
        "    return output\n",
        "\n",
        "def encode(tokens, max_depth=MAX_DEPTH):\n",
        "    max_len = 4*2**max_depth -2\n",
        "    ids = [token_to_id[t] for t in tokens] + [EOS_ID]\n",
        "    return ids + [PAD_ID] * (max_len - len(ids))\n",
        "\n",
        "def decode_sequence(token_ids, id_to_token, pad_token='PAD', eos_token='EOS'):\n",
        "    \"\"\"\n",
        "    Converts a list of token IDs into a readable string by decoding tokens.\n",
        "    Stops at the first EOS token if present, and ignores PAD tokens.\n",
        "    \"\"\"\n",
        "    tokens = []\n",
        "    for token_id in token_ids:\n",
        "        token = id_to_token.get(token_id, '?')\n",
        "        if token == eos_token:\n",
        "            break\n",
        "        if token != pad_token:\n",
        "            tokens.append(token)\n",
        "    return ' '.join(tokens)\n",
        "\n",
        "def generate_dataset(n,max_depth=MAX_DEPTH):\n",
        "    X, Y = [], []\n",
        "    for _ in range(n):\n",
        "        expr = generate_infix_expression(max_depth)\n",
        "        infix = tokenize(expr)\n",
        "        postfix = infix_to_postfix(infix)\n",
        "        X.append(encode(infix, max_depth = max_depth))\n",
        "        Y.append(encode(postfix, max_depth= max_depth))\n",
        "    return np.array(X), np.array(Y)\n",
        "\n",
        "#you might use the shift function for teacher-forcing\n",
        "def shift_right(seqs):\n",
        "    shifted = np.zeros_like(seqs)\n",
        "    shifted[:, 1:] = seqs[:, :-1]\n",
        "    shifted[:, 0] = SOS_ID\n",
        "    return shifted"
      ]
    },
    {
      "cell_type": "markdown",
      "metadata": {
        "id": "MgqDkVaztBuv"
      },
      "source": [
        "# Constraints\n",
        "* You may use any architecture (decoder-only, encoder-decoder, or other).\n",
        "\n",
        "* The maximum number of parameters is 2 million.\n",
        "\n",
        "* Beam search is not allowed.\n",
        "\n",
        "* You may adapt the formula generator to your needs, but preserve its core logic—especially the frequency distribution of formulas by depth, as it may significantly influence model performance.\n",
        "\n",
        "* You may train your model using a pre-generated fixed dataset (e.g., an array) or directly use an on-the-fly generator.\n",
        "\n",
        "\n"
      ]
    },
    {
      "cell_type": "markdown",
      "metadata": {
        "id": "QDUjK4SGvT0s"
      },
      "source": [
        "# Evaluation\n",
        "\n",
        "We shall evaluate a generated item y_pred using \"prefix accuracy\", the lenght of\n",
        "the initial prefix of y_pred matching the ground true y_true. This will be divided by the maximum length of y_true and y_pred (up to EOS), so that a perfect match has score 1.\n",
        "\n",
        "* It's more informative than exact match (which is often 0)\n",
        "\n",
        "* It’s tighter than edit distance: focuses on generation flow\n",
        "\n",
        "* Captures where the model starts to make errors\n",
        "\n"
      ]
    },
    {
      "cell_type": "code",
      "execution_count": 4,
      "metadata": {
        "id": "MeqyasiYxCpU"
      },
      "outputs": [],
      "source": [
        "def prefix_accuracy_single(y_true, y_pred, id_to_token, eos_id=EOS_ID, verbose=False):\n",
        "    t_str = decode_sequence(y_true, id_to_token).split(' EOS')[0]\n",
        "    p_str = decode_sequence(y_pred, id_to_token).split(' EOS')[0]\n",
        "    t_tokens = t_str.strip().split()\n",
        "    p_tokens = p_str.strip().split()\n",
        "    max_len = max(len(t_tokens), len(p_tokens))\n",
        "\n",
        "    match_len = sum(x == y for x, y in zip(t_tokens, p_tokens))\n",
        "    score = match_len / max_len if max_len>0 else 0\n",
        "\n",
        "    if verbose:\n",
        "        print(\"TARGET :\", ' '.join(t_tokens))\n",
        "        print(\"PREDICT:\", ' '.join(p_tokens))\n",
        "        print(f\"PREFIX MATCH: {match_len}/{len(t_tokens)} → {score:.2f}\")\n",
        "\n",
        "    return score"
      ]
    },
    {
      "cell_type": "markdown",
      "metadata": {
        "id": "HeCRiqvsxQax"
      },
      "source": [
        "For the exam, evaluate you model on a test set of 20 expressions. Repeat this evaluation 10 times, and return the mean and std for this rounds."
      ]
    },
    {
      "cell_type": "markdown",
      "metadata": {
        "id": "AxxXPqKQ86fZ"
      },
      "source": [
        "Be sure to evalutate the generator: your model may only take as input the expression in infix format and return its translation to postifix.\n",
        "\n",
        "If you are usuing an encoder-decoder model, generation must be done autoregressively."
      ]
    },
    {
      "cell_type": "markdown",
      "metadata": {
        "id": "aOBottQI9o1h"
      },
      "source": [
        "# What to deliver\n",
        "\n",
        "As usual you are supposed to deliver a single notebook witten in Keras. You are auhtorized to use Keras3 with pytorch as backend if your prefer.\n",
        "\n",
        "Do no upload a zip file: the submission will be rejected.\n",
        "\n",
        "The python notebook should have a clear documentation of the training phase, possibly with its history.\n",
        "\n",
        "You should be able to provide the network paramters upon request. Even better, consider a way to upload them inside your notebook using gdown."
      ]
    },
    {
      "cell_type": "markdown",
      "metadata": {},
      "source": [
        "---"
      ]
    },
    {
      "cell_type": "markdown",
      "metadata": {},
      "source": [
        "# DL Project start \n",
        "\n",
        "Leonardo Billi   \n",
        "m = 0001189587  \n",
        "06/25  \n",
        "\n",
        "*all the different configuretions and important datas of the model are stored in report.md*"
      ]
    },
    {
      "cell_type": "markdown",
      "metadata": {},
      "source": [
        "## MODEL"
      ]
    },
    {
      "cell_type": "markdown",
      "metadata": {},
      "source": [
        "### Choice\n",
        "\n",
        "During the task analysis, after some research I considered implementing either an RNN or a Transformer.\n",
        "After reviewing the following resources (and others linked within them), I decided to use an **encoder–decoder RNN with attention**:\n",
        "\n",
        "\\[1]: [https://machinelearningmastery.com/define-encoder-decoder-sequence-sequence-model-neural-machine-translation-keras](https://machinelearningmastery.com/define-encoder-decoder-sequence-sequence-model-neural-machine-translation-keras) “How to Develop a Seq2Seq Model for Neural Machine Translation in Keras”  \n",
        "\\[2]: [https://machinelearningmastery.com/encoder-decoder-attention-sequence-to-sequence-prediction-keras](https://machinelearningmastery.com/encoder-decoder-attention-sequence-to-sequence-prediction-keras) “How to Develop an Encoder-Decoder Model with Attention in Keras”\n",
        "\n",
        "I concluded that this architecture is better suited given the nature of the two models:\n",
        "\n",
        "* **RNN + Attention**\n",
        "  The LSTM processes tokens **one at a time**, maintaining a recurrent state $h_t$ that encodes the entire history of previous tokens. The attention mechanism then “picks out” only the relevant elements (parentheses, operators, identifiers) whenever a new token needs to be generated. This model is **inherently sequential** and finely tuned for data where order and grouping are fundamental (e.g., parentheses).\n",
        "\n",
        "* **Transformer**\n",
        "  Primarily based on **self-attention** over the tokens of the same sequence, combined with Positional Encoding to inject order information. This is ideal for very long sequences or those with long-range dependencies (e.g., paragraphs of text), but for moderate lengths (\\~30 tokens) with tree-like structures already made explicit by parentheses, the overhead of managing Positional Encoding and multi-head self-attention didn’t seem to offer a real advantage.  \n"
      ]
    },
    {
      "cell_type": "markdown",
      "metadata": {},
      "source": [
        "---"
      ]
    },
    {
      "cell_type": "markdown",
      "metadata": {},
      "source": [
        "\n",
        "### Model Overview\n",
        "\n",
        "1. **Encoder**\n",
        "\n",
        "   * A single unidirectional LSTM (`enc_units`, `return_sequences=True`) reads the variable-length token sequence, first mapped through an **Embedding** of dimension `embed_dim`.\n",
        "   * Outputs:\n",
        "\n",
        "     * `enc_outputs`: all hidden states (shape `[batch, variable_length, enc_units]`)\n",
        "     * Final state: `state_h`, `state_c` (to initialize the decoder)\n",
        "\n",
        "2. **Decoder + Attention**\n",
        "\n",
        "   * **Decoder**: another unidirectional LSTM of equal capacity (`dec_units`), fed with the “shifted” token sequence for *teacher forcing*:\n",
        "\n",
        "     ```python\n",
        "     dec_inputs = [SOS] + y_true[:-1]\n",
        "     ```\n",
        "\n",
        "     Its initial hidden state is set to `state_h, state_c` from the encoder.\n",
        "   * **Attention**: an **Additive (Bahdanau) Attention** mechanism over `[dec_outputs, enc_outputs]` computes, at each decoder step, a context vector highlighting the most relevant infix tokens for the current output. This vector is concatenated with `dec_outputs` and projected via `Dense(vocab_size, activation='softmax')` to yield the next-token probability distribution:\n",
        "\n",
        "   $$\n",
        "   e_{t,i} = v^\\top \\tanh\\bigl(W_q\\,h_t + W_k\\,H_i\\bigr)\n",
        "   $$\n",
        "\n",
        "Additional Key Concepts:\n",
        "\n",
        "1. **$h$ and $c$**\n",
        "\n",
        "   * In an LSTM, **$h_t$** is the *hidden state* and **$c_t$** is the *cell state*.\n",
        "   * The hidden state $h_t \\in \\mathbb{R}^{\\text{units}}$ encodes all the useful information up to time step $t$.\n",
        "   * The cell state $c_t \\in \\mathbb{R}^{\\text{units}}$ carries long-term memory (via its “gates”), helping to mitigate the vanishing gradient problem.\n",
        "\n",
        "2. **Additive (Bahdanau) Attention**\n",
        "\n",
        "   * At each decoder step $t$, for every encoder time step $i = 1 \\ldots L$, we compute the alignment score:\n",
        "\n",
        "     $$\n",
        "       e_{t,i} = v^\\top \\tanh\\bigl(W_q\\,h_t^{\\text{dec}} + W_k\\,h_i^{\\text{enc}}\\bigr)\n",
        "       \\quad \\in \\mathbb{R}.\n",
        "     $$\n",
        "   * **Attention weights**:\n",
        "\n",
        "     $$\n",
        "       \\alpha_{t,i} = \\frac{\\exp(e_{t,i})}{\\sum_j \\exp(e_{t,j})}.\n",
        "     $$\n",
        "   * **Context vector**:\n",
        "\n",
        "     $$\n",
        "       c_t = \\sum_{i=1}^L \\alpha_{t,i}\\,h_i^{\\text{enc}}.\n",
        "     $$\n",
        "   * **Concatenation & output**:\n",
        "\n",
        "     $$\n",
        "       \\bigl[h_t^{\\text{dec}};\\;c_t\\bigr]\n",
        "       \\;\\xrightarrow{\\text{Dense}(\\text{vocab\\_size}, \\,\\text{softmax})}\\;\\text{next-token distribution}.\n",
        "     $$\n",
        "   * This mechanism allows the decoder to dynamically “unlock” the most relevant parts of the encoder’s outputs when deciding which token to emit.\n"
      ]
    },
    {
      "cell_type": "code",
      "execution_count": 5,
      "metadata": {},
      "outputs": [],
      "source": [
        "def create_encoder_model(vocab_size, embed_dim, enc_units):\n",
        "    # Input of arbitrary length for infix sequence\n",
        "    enc_inputs = Input(shape=(None,), name=\"enc_inputs\")  # (batch, variable_length)\n",
        "    # Embedding\n",
        "    x = Embedding(input_dim=vocab_size,\n",
        "                  output_dim=embed_dim,\n",
        "                  name=\"enc_embedding\")(enc_inputs)\n",
        "    # LSTM returns all hidden states and the final (h, c) states; \n",
        "    enc_outputs, state_h, state_c = LSTM(enc_units,\n",
        "                                        return_sequences=True,\n",
        "                                        return_state=True,\n",
        "                                        name=\"encoder_lstm\")(x)\n",
        "    # Model outputs encoder hidden sequence and final states\n",
        "    return Model(enc_inputs, [enc_outputs, state_h, state_c], name=\"encoder_model\")\n",
        "\n",
        "def create_decoder_model(vocab_size, embed_dim, dec_units):\n",
        "    # Decoder inputs (token IDs) of variable length for teacher forcing\n",
        "    dec_inputs = Input(shape=(None,), name=\"dec_inputs\")  # (batch, variable_length)\n",
        "    # Encoder outputs and states come from encoder\n",
        "    enc_outputs = Input(shape=(None, dec_units), name=\"enc_outputs\")  # (batch, enc_len, units)\n",
        "    state_h_in  = Input(shape=(dec_units,), name=\"h_in\")\n",
        "    state_c_in  = Input(shape=(dec_units,), name=\"c_in\")\n",
        "\n",
        "    # Embedding of decoder input\n",
        "    x = Embedding(input_dim=vocab_size,\n",
        "                  output_dim=embed_dim,\n",
        "                  name=\"dec_embedding\")(dec_inputs)\n",
        "    # Decoder LSTM consumes masked embeddings and initial states\n",
        "    dec_outputs, state_h_out, state_c_out = LSTM(dec_units,\n",
        "                                                return_sequences=True,\n",
        "                                                return_state=True,\n",
        "                                                name=\"decoder_lstm\")(x,\n",
        "                                                                   initial_state=[state_h_in, state_c_in])\n",
        "    # It aligns each decoder timestep to relevant encoder hidden states\n",
        "    context = AdditiveAttention(name=\"attention\")([dec_outputs, enc_outputs])\n",
        "    # Concatenate context vector with decoder outputs for richer representation\n",
        "    concat = Concatenate(axis=-1, name=\"concat\")([dec_outputs, context])\n",
        "\n",
        "    # Final projection to vocabulary distribution (softmax)\n",
        "    logits = Dense(vocab_size, activation=\"softmax\", name=\"vocab_dist\")(concat)\n",
        "\n",
        "    # Return logits and new states for inference\n",
        "    return Model(\n",
        "        [dec_inputs, enc_outputs, state_h_in, state_c_in],\n",
        "        [logits, state_h_out, state_c_out],\n",
        "        name=\"decoder_model\"\n",
        "    )\n",
        "\n",
        "# Combined Seq2Seq Model: for training with teacher forcing\n",
        "def create_seq2seq_model(encoder, decoder):\n",
        "    # Encoder input and decoder input\n",
        "    enc_in = encoder.input       # (batch, variable_length)\n",
        "    dec_in = decoder.input[0]    # (batch, variable_length)\n",
        "\n",
        "    # Forward pass through encoder\n",
        "    enc_outs, h, c = encoder(enc_in)\n",
        "    # Forward pass through decoder using teacher-forcing inputs and encoder outputs/states\n",
        "    logits, _, _ = decoder([dec_in, enc_outs, h, c])\n",
        "\n",
        "    # Full model maps [enc_in, dec_in] -> logits\n",
        "    return Model([enc_in, dec_in], logits, name=\"seq2seq_model\")"
      ]
    },
    {
      "cell_type": "markdown",
      "metadata": {},
      "source": [
        "Since vocab size is small and each token does not have so much possible different meaning, we can use a small embedding dimension. (16/32)  \n"
      ]
    },
    {
      "cell_type": "code",
      "execution_count": 6,
      "metadata": {},
      "outputs": [
        {
          "name": "stderr",
          "output_type": "stream",
          "text": [
            "W0000 00:00:1749747664.706438 2889673 gpu_device.cc:2344] Cannot dlopen some GPU libraries. Please make sure the missing libraries mentioned above are installed properly if you would like to use GPU. Follow the guide at https://www.tensorflow.org/install/gpu for how to download and setup the required libraries for your platform.\n",
            "Skipping registering GPU devices...\n"
          ]
        },
        {
          "data": {
            "text/html": [
              "<pre style=\"white-space:pre;overflow-x:auto;line-height:normal;font-family:Menlo,'DejaVu Sans Mono',consolas,'Courier New',monospace\"><span style=\"font-weight: bold\">Model: \"encoder_model\"</span>\n",
              "</pre>\n"
            ],
            "text/plain": [
              "\u001b[1mModel: \"encoder_model\"\u001b[0m\n"
            ]
          },
          "metadata": {},
          "output_type": "display_data"
        },
        {
          "data": {
            "text/html": [
              "<pre style=\"white-space:pre;overflow-x:auto;line-height:normal;font-family:Menlo,'DejaVu Sans Mono',consolas,'Courier New',monospace\">┏━━━━━━━━━━━━━━━━━━━━━━━━━━━━━━━━━┳━━━━━━━━━━━━━━━━━━━━━━━━┳━━━━━━━━━━━━━━━┓\n",
              "┃<span style=\"font-weight: bold\"> Layer (type)                    </span>┃<span style=\"font-weight: bold\"> Output Shape           </span>┃<span style=\"font-weight: bold\">       Param # </span>┃\n",
              "┡━━━━━━━━━━━━━━━━━━━━━━━━━━━━━━━━━╇━━━━━━━━━━━━━━━━━━━━━━━━╇━━━━━━━━━━━━━━━┩\n",
              "│ enc_inputs (<span style=\"color: #0087ff; text-decoration-color: #0087ff\">InputLayer</span>)         │ (<span style=\"color: #00d7ff; text-decoration-color: #00d7ff\">None</span>, <span style=\"color: #00d7ff; text-decoration-color: #00d7ff\">None</span>)           │             <span style=\"color: #00af00; text-decoration-color: #00af00\">0</span> │\n",
              "├─────────────────────────────────┼────────────────────────┼───────────────┤\n",
              "│ enc_embedding (<span style=\"color: #0087ff; text-decoration-color: #0087ff\">Embedding</span>)       │ (<span style=\"color: #00d7ff; text-decoration-color: #00d7ff\">None</span>, <span style=\"color: #00d7ff; text-decoration-color: #00d7ff\">None</span>, <span style=\"color: #00af00; text-decoration-color: #00af00\">32</span>)       │           <span style=\"color: #00af00; text-decoration-color: #00af00\">480</span> │\n",
              "├─────────────────────────────────┼────────────────────────┼───────────────┤\n",
              "│ encoder_lstm (<span style=\"color: #0087ff; text-decoration-color: #0087ff\">LSTM</span>)             │ [(<span style=\"color: #00d7ff; text-decoration-color: #00d7ff\">None</span>, <span style=\"color: #00d7ff; text-decoration-color: #00d7ff\">None</span>, <span style=\"color: #00af00; text-decoration-color: #00af00\">256</span>),    │       <span style=\"color: #00af00; text-decoration-color: #00af00\">295,936</span> │\n",
              "│                                 │ (<span style=\"color: #00d7ff; text-decoration-color: #00d7ff\">None</span>, <span style=\"color: #00af00; text-decoration-color: #00af00\">256</span>), (<span style=\"color: #00d7ff; text-decoration-color: #00d7ff\">None</span>,    │               │\n",
              "│                                 │ <span style=\"color: #00af00; text-decoration-color: #00af00\">256</span>)]                  │               │\n",
              "└─────────────────────────────────┴────────────────────────┴───────────────┘\n",
              "</pre>\n"
            ],
            "text/plain": [
              "┏━━━━━━━━━━━━━━━━━━━━━━━━━━━━━━━━━┳━━━━━━━━━━━━━━━━━━━━━━━━┳━━━━━━━━━━━━━━━┓\n",
              "┃\u001b[1m \u001b[0m\u001b[1mLayer (type)                   \u001b[0m\u001b[1m \u001b[0m┃\u001b[1m \u001b[0m\u001b[1mOutput Shape          \u001b[0m\u001b[1m \u001b[0m┃\u001b[1m \u001b[0m\u001b[1m      Param #\u001b[0m\u001b[1m \u001b[0m┃\n",
              "┡━━━━━━━━━━━━━━━━━━━━━━━━━━━━━━━━━╇━━━━━━━━━━━━━━━━━━━━━━━━╇━━━━━━━━━━━━━━━┩\n",
              "│ enc_inputs (\u001b[38;5;33mInputLayer\u001b[0m)         │ (\u001b[38;5;45mNone\u001b[0m, \u001b[38;5;45mNone\u001b[0m)           │             \u001b[38;5;34m0\u001b[0m │\n",
              "├─────────────────────────────────┼────────────────────────┼───────────────┤\n",
              "│ enc_embedding (\u001b[38;5;33mEmbedding\u001b[0m)       │ (\u001b[38;5;45mNone\u001b[0m, \u001b[38;5;45mNone\u001b[0m, \u001b[38;5;34m32\u001b[0m)       │           \u001b[38;5;34m480\u001b[0m │\n",
              "├─────────────────────────────────┼────────────────────────┼───────────────┤\n",
              "│ encoder_lstm (\u001b[38;5;33mLSTM\u001b[0m)             │ [(\u001b[38;5;45mNone\u001b[0m, \u001b[38;5;45mNone\u001b[0m, \u001b[38;5;34m256\u001b[0m),    │       \u001b[38;5;34m295,936\u001b[0m │\n",
              "│                                 │ (\u001b[38;5;45mNone\u001b[0m, \u001b[38;5;34m256\u001b[0m), (\u001b[38;5;45mNone\u001b[0m,    │               │\n",
              "│                                 │ \u001b[38;5;34m256\u001b[0m)]                  │               │\n",
              "└─────────────────────────────────┴────────────────────────┴───────────────┘\n"
            ]
          },
          "metadata": {},
          "output_type": "display_data"
        },
        {
          "data": {
            "text/html": [
              "<pre style=\"white-space:pre;overflow-x:auto;line-height:normal;font-family:Menlo,'DejaVu Sans Mono',consolas,'Courier New',monospace\"><span style=\"font-weight: bold\"> Total params: </span><span style=\"color: #00af00; text-decoration-color: #00af00\">296,416</span> (1.13 MB)\n",
              "</pre>\n"
            ],
            "text/plain": [
              "\u001b[1m Total params: \u001b[0m\u001b[38;5;34m296,416\u001b[0m (1.13 MB)\n"
            ]
          },
          "metadata": {},
          "output_type": "display_data"
        },
        {
          "data": {
            "text/html": [
              "<pre style=\"white-space:pre;overflow-x:auto;line-height:normal;font-family:Menlo,'DejaVu Sans Mono',consolas,'Courier New',monospace\"><span style=\"font-weight: bold\"> Trainable params: </span><span style=\"color: #00af00; text-decoration-color: #00af00\">296,416</span> (1.13 MB)\n",
              "</pre>\n"
            ],
            "text/plain": [
              "\u001b[1m Trainable params: \u001b[0m\u001b[38;5;34m296,416\u001b[0m (1.13 MB)\n"
            ]
          },
          "metadata": {},
          "output_type": "display_data"
        },
        {
          "data": {
            "text/html": [
              "<pre style=\"white-space:pre;overflow-x:auto;line-height:normal;font-family:Menlo,'DejaVu Sans Mono',consolas,'Courier New',monospace\"><span style=\"font-weight: bold\"> Non-trainable params: </span><span style=\"color: #00af00; text-decoration-color: #00af00\">0</span> (0.00 B)\n",
              "</pre>\n"
            ],
            "text/plain": [
              "\u001b[1m Non-trainable params: \u001b[0m\u001b[38;5;34m0\u001b[0m (0.00 B)\n"
            ]
          },
          "metadata": {},
          "output_type": "display_data"
        },
        {
          "data": {
            "text/html": [
              "<pre style=\"white-space:pre;overflow-x:auto;line-height:normal;font-family:Menlo,'DejaVu Sans Mono',consolas,'Courier New',monospace\"><span style=\"font-weight: bold\">Model: \"decoder_model\"</span>\n",
              "</pre>\n"
            ],
            "text/plain": [
              "\u001b[1mModel: \"decoder_model\"\u001b[0m\n"
            ]
          },
          "metadata": {},
          "output_type": "display_data"
        },
        {
          "data": {
            "text/html": [
              "<pre style=\"white-space:pre;overflow-x:auto;line-height:normal;font-family:Menlo,'DejaVu Sans Mono',consolas,'Courier New',monospace\">┏━━━━━━━━━━━━━━━━━━━━━┳━━━━━━━━━━━━━━━━━━━┳━━━━━━━━━━━━┳━━━━━━━━━━━━━━━━━━━┓\n",
              "┃<span style=\"font-weight: bold\"> Layer (type)        </span>┃<span style=\"font-weight: bold\"> Output Shape      </span>┃<span style=\"font-weight: bold\">    Param # </span>┃<span style=\"font-weight: bold\"> Connected to      </span>┃\n",
              "┡━━━━━━━━━━━━━━━━━━━━━╇━━━━━━━━━━━━━━━━━━━╇━━━━━━━━━━━━╇━━━━━━━━━━━━━━━━━━━┩\n",
              "│ dec_inputs          │ (<span style=\"color: #00d7ff; text-decoration-color: #00d7ff\">None</span>, <span style=\"color: #00d7ff; text-decoration-color: #00d7ff\">None</span>)      │          <span style=\"color: #00af00; text-decoration-color: #00af00\">0</span> │ -                 │\n",
              "│ (<span style=\"color: #0087ff; text-decoration-color: #0087ff\">InputLayer</span>)        │                   │            │                   │\n",
              "├─────────────────────┼───────────────────┼────────────┼───────────────────┤\n",
              "│ dec_embedding       │ (<span style=\"color: #00d7ff; text-decoration-color: #00d7ff\">None</span>, <span style=\"color: #00d7ff; text-decoration-color: #00d7ff\">None</span>, <span style=\"color: #00af00; text-decoration-color: #00af00\">32</span>)  │        <span style=\"color: #00af00; text-decoration-color: #00af00\">480</span> │ dec_inputs[<span style=\"color: #00af00; text-decoration-color: #00af00\">0</span>][<span style=\"color: #00af00; text-decoration-color: #00af00\">0</span>]  │\n",
              "│ (<span style=\"color: #0087ff; text-decoration-color: #0087ff\">Embedding</span>)         │                   │            │                   │\n",
              "├─────────────────────┼───────────────────┼────────────┼───────────────────┤\n",
              "│ h_in (<span style=\"color: #0087ff; text-decoration-color: #0087ff\">InputLayer</span>)   │ (<span style=\"color: #00d7ff; text-decoration-color: #00d7ff\">None</span>, <span style=\"color: #00af00; text-decoration-color: #00af00\">256</span>)       │          <span style=\"color: #00af00; text-decoration-color: #00af00\">0</span> │ -                 │\n",
              "├─────────────────────┼───────────────────┼────────────┼───────────────────┤\n",
              "│ c_in (<span style=\"color: #0087ff; text-decoration-color: #0087ff\">InputLayer</span>)   │ (<span style=\"color: #00d7ff; text-decoration-color: #00d7ff\">None</span>, <span style=\"color: #00af00; text-decoration-color: #00af00\">256</span>)       │          <span style=\"color: #00af00; text-decoration-color: #00af00\">0</span> │ -                 │\n",
              "├─────────────────────┼───────────────────┼────────────┼───────────────────┤\n",
              "│ decoder_lstm (<span style=\"color: #0087ff; text-decoration-color: #0087ff\">LSTM</span>) │ [(<span style=\"color: #00d7ff; text-decoration-color: #00d7ff\">None</span>, <span style=\"color: #00d7ff; text-decoration-color: #00d7ff\">None</span>,     │    <span style=\"color: #00af00; text-decoration-color: #00af00\">295,936</span> │ dec_embedding[<span style=\"color: #00af00; text-decoration-color: #00af00\">0</span>]… │\n",
              "│                     │ <span style=\"color: #00af00; text-decoration-color: #00af00\">256</span>), (<span style=\"color: #00d7ff; text-decoration-color: #00d7ff\">None</span>,      │            │ h_in[<span style=\"color: #00af00; text-decoration-color: #00af00\">0</span>][<span style=\"color: #00af00; text-decoration-color: #00af00\">0</span>],       │\n",
              "│                     │ <span style=\"color: #00af00; text-decoration-color: #00af00\">256</span>), (<span style=\"color: #00d7ff; text-decoration-color: #00d7ff\">None</span>,      │            │ c_in[<span style=\"color: #00af00; text-decoration-color: #00af00\">0</span>][<span style=\"color: #00af00; text-decoration-color: #00af00\">0</span>]        │\n",
              "│                     │ <span style=\"color: #00af00; text-decoration-color: #00af00\">256</span>)]             │            │                   │\n",
              "├─────────────────────┼───────────────────┼────────────┼───────────────────┤\n",
              "│ enc_outputs         │ (<span style=\"color: #00d7ff; text-decoration-color: #00d7ff\">None</span>, <span style=\"color: #00d7ff; text-decoration-color: #00d7ff\">None</span>, <span style=\"color: #00af00; text-decoration-color: #00af00\">256</span>) │          <span style=\"color: #00af00; text-decoration-color: #00af00\">0</span> │ -                 │\n",
              "│ (<span style=\"color: #0087ff; text-decoration-color: #0087ff\">InputLayer</span>)        │                   │            │                   │\n",
              "├─────────────────────┼───────────────────┼────────────┼───────────────────┤\n",
              "│ attention           │ (<span style=\"color: #00d7ff; text-decoration-color: #00d7ff\">None</span>, <span style=\"color: #00d7ff; text-decoration-color: #00d7ff\">None</span>, <span style=\"color: #00af00; text-decoration-color: #00af00\">256</span>) │        <span style=\"color: #00af00; text-decoration-color: #00af00\">256</span> │ decoder_lstm[<span style=\"color: #00af00; text-decoration-color: #00af00\">0</span>][<span style=\"color: #00af00; text-decoration-color: #00af00\">…</span> │\n",
              "│ (<span style=\"color: #0087ff; text-decoration-color: #0087ff\">AdditiveAttention</span>) │                   │            │ enc_outputs[<span style=\"color: #00af00; text-decoration-color: #00af00\">0</span>][<span style=\"color: #00af00; text-decoration-color: #00af00\">0</span>] │\n",
              "├─────────────────────┼───────────────────┼────────────┼───────────────────┤\n",
              "│ concat              │ (<span style=\"color: #00d7ff; text-decoration-color: #00d7ff\">None</span>, <span style=\"color: #00d7ff; text-decoration-color: #00d7ff\">None</span>, <span style=\"color: #00af00; text-decoration-color: #00af00\">512</span>) │          <span style=\"color: #00af00; text-decoration-color: #00af00\">0</span> │ decoder_lstm[<span style=\"color: #00af00; text-decoration-color: #00af00\">0</span>][<span style=\"color: #00af00; text-decoration-color: #00af00\">…</span> │\n",
              "│ (<span style=\"color: #0087ff; text-decoration-color: #0087ff\">Concatenate</span>)       │                   │            │ attention[<span style=\"color: #00af00; text-decoration-color: #00af00\">0</span>][<span style=\"color: #00af00; text-decoration-color: #00af00\">0</span>]   │\n",
              "├─────────────────────┼───────────────────┼────────────┼───────────────────┤\n",
              "│ vocab_dist (<span style=\"color: #0087ff; text-decoration-color: #0087ff\">Dense</span>)  │ (<span style=\"color: #00d7ff; text-decoration-color: #00d7ff\">None</span>, <span style=\"color: #00d7ff; text-decoration-color: #00d7ff\">None</span>, <span style=\"color: #00af00; text-decoration-color: #00af00\">15</span>)  │      <span style=\"color: #00af00; text-decoration-color: #00af00\">7,695</span> │ concat[<span style=\"color: #00af00; text-decoration-color: #00af00\">0</span>][<span style=\"color: #00af00; text-decoration-color: #00af00\">0</span>]      │\n",
              "└─────────────────────┴───────────────────┴────────────┴───────────────────┘\n",
              "</pre>\n"
            ],
            "text/plain": [
              "┏━━━━━━━━━━━━━━━━━━━━━┳━━━━━━━━━━━━━━━━━━━┳━━━━━━━━━━━━┳━━━━━━━━━━━━━━━━━━━┓\n",
              "┃\u001b[1m \u001b[0m\u001b[1mLayer (type)       \u001b[0m\u001b[1m \u001b[0m┃\u001b[1m \u001b[0m\u001b[1mOutput Shape     \u001b[0m\u001b[1m \u001b[0m┃\u001b[1m \u001b[0m\u001b[1m   Param #\u001b[0m\u001b[1m \u001b[0m┃\u001b[1m \u001b[0m\u001b[1mConnected to     \u001b[0m\u001b[1m \u001b[0m┃\n",
              "┡━━━━━━━━━━━━━━━━━━━━━╇━━━━━━━━━━━━━━━━━━━╇━━━━━━━━━━━━╇━━━━━━━━━━━━━━━━━━━┩\n",
              "│ dec_inputs          │ (\u001b[38;5;45mNone\u001b[0m, \u001b[38;5;45mNone\u001b[0m)      │          \u001b[38;5;34m0\u001b[0m │ -                 │\n",
              "│ (\u001b[38;5;33mInputLayer\u001b[0m)        │                   │            │                   │\n",
              "├─────────────────────┼───────────────────┼────────────┼───────────────────┤\n",
              "│ dec_embedding       │ (\u001b[38;5;45mNone\u001b[0m, \u001b[38;5;45mNone\u001b[0m, \u001b[38;5;34m32\u001b[0m)  │        \u001b[38;5;34m480\u001b[0m │ dec_inputs[\u001b[38;5;34m0\u001b[0m][\u001b[38;5;34m0\u001b[0m]  │\n",
              "│ (\u001b[38;5;33mEmbedding\u001b[0m)         │                   │            │                   │\n",
              "├─────────────────────┼───────────────────┼────────────┼───────────────────┤\n",
              "│ h_in (\u001b[38;5;33mInputLayer\u001b[0m)   │ (\u001b[38;5;45mNone\u001b[0m, \u001b[38;5;34m256\u001b[0m)       │          \u001b[38;5;34m0\u001b[0m │ -                 │\n",
              "├─────────────────────┼───────────────────┼────────────┼───────────────────┤\n",
              "│ c_in (\u001b[38;5;33mInputLayer\u001b[0m)   │ (\u001b[38;5;45mNone\u001b[0m, \u001b[38;5;34m256\u001b[0m)       │          \u001b[38;5;34m0\u001b[0m │ -                 │\n",
              "├─────────────────────┼───────────────────┼────────────┼───────────────────┤\n",
              "│ decoder_lstm (\u001b[38;5;33mLSTM\u001b[0m) │ [(\u001b[38;5;45mNone\u001b[0m, \u001b[38;5;45mNone\u001b[0m,     │    \u001b[38;5;34m295,936\u001b[0m │ dec_embedding[\u001b[38;5;34m0\u001b[0m]… │\n",
              "│                     │ \u001b[38;5;34m256\u001b[0m), (\u001b[38;5;45mNone\u001b[0m,      │            │ h_in[\u001b[38;5;34m0\u001b[0m][\u001b[38;5;34m0\u001b[0m],       │\n",
              "│                     │ \u001b[38;5;34m256\u001b[0m), (\u001b[38;5;45mNone\u001b[0m,      │            │ c_in[\u001b[38;5;34m0\u001b[0m][\u001b[38;5;34m0\u001b[0m]        │\n",
              "│                     │ \u001b[38;5;34m256\u001b[0m)]             │            │                   │\n",
              "├─────────────────────┼───────────────────┼────────────┼───────────────────┤\n",
              "│ enc_outputs         │ (\u001b[38;5;45mNone\u001b[0m, \u001b[38;5;45mNone\u001b[0m, \u001b[38;5;34m256\u001b[0m) │          \u001b[38;5;34m0\u001b[0m │ -                 │\n",
              "│ (\u001b[38;5;33mInputLayer\u001b[0m)        │                   │            │                   │\n",
              "├─────────────────────┼───────────────────┼────────────┼───────────────────┤\n",
              "│ attention           │ (\u001b[38;5;45mNone\u001b[0m, \u001b[38;5;45mNone\u001b[0m, \u001b[38;5;34m256\u001b[0m) │        \u001b[38;5;34m256\u001b[0m │ decoder_lstm[\u001b[38;5;34m0\u001b[0m][\u001b[38;5;34m…\u001b[0m │\n",
              "│ (\u001b[38;5;33mAdditiveAttention\u001b[0m) │                   │            │ enc_outputs[\u001b[38;5;34m0\u001b[0m][\u001b[38;5;34m0\u001b[0m] │\n",
              "├─────────────────────┼───────────────────┼────────────┼───────────────────┤\n",
              "│ concat              │ (\u001b[38;5;45mNone\u001b[0m, \u001b[38;5;45mNone\u001b[0m, \u001b[38;5;34m512\u001b[0m) │          \u001b[38;5;34m0\u001b[0m │ decoder_lstm[\u001b[38;5;34m0\u001b[0m][\u001b[38;5;34m…\u001b[0m │\n",
              "│ (\u001b[38;5;33mConcatenate\u001b[0m)       │                   │            │ attention[\u001b[38;5;34m0\u001b[0m][\u001b[38;5;34m0\u001b[0m]   │\n",
              "├─────────────────────┼───────────────────┼────────────┼───────────────────┤\n",
              "│ vocab_dist (\u001b[38;5;33mDense\u001b[0m)  │ (\u001b[38;5;45mNone\u001b[0m, \u001b[38;5;45mNone\u001b[0m, \u001b[38;5;34m15\u001b[0m)  │      \u001b[38;5;34m7,695\u001b[0m │ concat[\u001b[38;5;34m0\u001b[0m][\u001b[38;5;34m0\u001b[0m]      │\n",
              "└─────────────────────┴───────────────────┴────────────┴───────────────────┘\n"
            ]
          },
          "metadata": {},
          "output_type": "display_data"
        },
        {
          "data": {
            "text/html": [
              "<pre style=\"white-space:pre;overflow-x:auto;line-height:normal;font-family:Menlo,'DejaVu Sans Mono',consolas,'Courier New',monospace\"><span style=\"font-weight: bold\"> Total params: </span><span style=\"color: #00af00; text-decoration-color: #00af00\">304,367</span> (1.16 MB)\n",
              "</pre>\n"
            ],
            "text/plain": [
              "\u001b[1m Total params: \u001b[0m\u001b[38;5;34m304,367\u001b[0m (1.16 MB)\n"
            ]
          },
          "metadata": {},
          "output_type": "display_data"
        },
        {
          "data": {
            "text/html": [
              "<pre style=\"white-space:pre;overflow-x:auto;line-height:normal;font-family:Menlo,'DejaVu Sans Mono',consolas,'Courier New',monospace\"><span style=\"font-weight: bold\"> Trainable params: </span><span style=\"color: #00af00; text-decoration-color: #00af00\">304,367</span> (1.16 MB)\n",
              "</pre>\n"
            ],
            "text/plain": [
              "\u001b[1m Trainable params: \u001b[0m\u001b[38;5;34m304,367\u001b[0m (1.16 MB)\n"
            ]
          },
          "metadata": {},
          "output_type": "display_data"
        },
        {
          "data": {
            "text/html": [
              "<pre style=\"white-space:pre;overflow-x:auto;line-height:normal;font-family:Menlo,'DejaVu Sans Mono',consolas,'Courier New',monospace\"><span style=\"font-weight: bold\"> Non-trainable params: </span><span style=\"color: #00af00; text-decoration-color: #00af00\">0</span> (0.00 B)\n",
              "</pre>\n"
            ],
            "text/plain": [
              "\u001b[1m Non-trainable params: \u001b[0m\u001b[38;5;34m0\u001b[0m (0.00 B)\n"
            ]
          },
          "metadata": {},
          "output_type": "display_data"
        },
        {
          "data": {
            "text/html": [
              "<pre style=\"white-space:pre;overflow-x:auto;line-height:normal;font-family:Menlo,'DejaVu Sans Mono',consolas,'Courier New',monospace\"><span style=\"font-weight: bold\">Model: \"seq2seq_model\"</span>\n",
              "</pre>\n"
            ],
            "text/plain": [
              "\u001b[1mModel: \"seq2seq_model\"\u001b[0m\n"
            ]
          },
          "metadata": {},
          "output_type": "display_data"
        },
        {
          "data": {
            "text/html": [
              "<pre style=\"white-space:pre;overflow-x:auto;line-height:normal;font-family:Menlo,'DejaVu Sans Mono',consolas,'Courier New',monospace\">┏━━━━━━━━━━━━━━━━━━━━━┳━━━━━━━━━━━━━━━━━━━┳━━━━━━━━━━━━┳━━━━━━━━━━━━━━━━━━━┓\n",
              "┃<span style=\"font-weight: bold\"> Layer (type)        </span>┃<span style=\"font-weight: bold\"> Output Shape      </span>┃<span style=\"font-weight: bold\">    Param # </span>┃<span style=\"font-weight: bold\"> Connected to      </span>┃\n",
              "┡━━━━━━━━━━━━━━━━━━━━━╇━━━━━━━━━━━━━━━━━━━╇━━━━━━━━━━━━╇━━━━━━━━━━━━━━━━━━━┩\n",
              "│ enc_inputs          │ (<span style=\"color: #00d7ff; text-decoration-color: #00d7ff\">None</span>, <span style=\"color: #00d7ff; text-decoration-color: #00d7ff\">None</span>)      │          <span style=\"color: #00af00; text-decoration-color: #00af00\">0</span> │ -                 │\n",
              "│ (<span style=\"color: #0087ff; text-decoration-color: #0087ff\">InputLayer</span>)        │                   │            │                   │\n",
              "├─────────────────────┼───────────────────┼────────────┼───────────────────┤\n",
              "│ dec_inputs          │ (<span style=\"color: #00d7ff; text-decoration-color: #00d7ff\">None</span>, <span style=\"color: #00d7ff; text-decoration-color: #00d7ff\">None</span>)      │          <span style=\"color: #00af00; text-decoration-color: #00af00\">0</span> │ -                 │\n",
              "│ (<span style=\"color: #0087ff; text-decoration-color: #0087ff\">InputLayer</span>)        │                   │            │                   │\n",
              "├─────────────────────┼───────────────────┼────────────┼───────────────────┤\n",
              "│ encoder_model       │ [(<span style=\"color: #00d7ff; text-decoration-color: #00d7ff\">None</span>, <span style=\"color: #00d7ff; text-decoration-color: #00d7ff\">None</span>,     │    <span style=\"color: #00af00; text-decoration-color: #00af00\">296,416</span> │ enc_inputs[<span style=\"color: #00af00; text-decoration-color: #00af00\">0</span>][<span style=\"color: #00af00; text-decoration-color: #00af00\">0</span>]  │\n",
              "│ (<span style=\"color: #0087ff; text-decoration-color: #0087ff\">Functional</span>)        │ <span style=\"color: #00af00; text-decoration-color: #00af00\">256</span>), (<span style=\"color: #00d7ff; text-decoration-color: #00d7ff\">None</span>,      │            │                   │\n",
              "│                     │ <span style=\"color: #00af00; text-decoration-color: #00af00\">256</span>), (<span style=\"color: #00d7ff; text-decoration-color: #00d7ff\">None</span>,      │            │                   │\n",
              "│                     │ <span style=\"color: #00af00; text-decoration-color: #00af00\">256</span>)]             │            │                   │\n",
              "├─────────────────────┼───────────────────┼────────────┼───────────────────┤\n",
              "│ decoder_model       │ [(<span style=\"color: #00d7ff; text-decoration-color: #00d7ff\">None</span>, <span style=\"color: #00d7ff; text-decoration-color: #00d7ff\">None</span>,     │    <span style=\"color: #00af00; text-decoration-color: #00af00\">304,367</span> │ dec_inputs[<span style=\"color: #00af00; text-decoration-color: #00af00\">0</span>][<span style=\"color: #00af00; text-decoration-color: #00af00\">0</span>], │\n",
              "│ (<span style=\"color: #0087ff; text-decoration-color: #0087ff\">Functional</span>)        │ <span style=\"color: #00af00; text-decoration-color: #00af00\">15</span>), (<span style=\"color: #00d7ff; text-decoration-color: #00d7ff\">None</span>, <span style=\"color: #00af00; text-decoration-color: #00af00\">256</span>), │            │ encoder_model[<span style=\"color: #00af00; text-decoration-color: #00af00\">0</span>]… │\n",
              "│                     │ (<span style=\"color: #00d7ff; text-decoration-color: #00d7ff\">None</span>, <span style=\"color: #00af00; text-decoration-color: #00af00\">256</span>)]      │            │ encoder_model[<span style=\"color: #00af00; text-decoration-color: #00af00\">0</span>]… │\n",
              "│                     │                   │            │ encoder_model[<span style=\"color: #00af00; text-decoration-color: #00af00\">0</span>]… │\n",
              "└─────────────────────┴───────────────────┴────────────┴───────────────────┘\n",
              "</pre>\n"
            ],
            "text/plain": [
              "┏━━━━━━━━━━━━━━━━━━━━━┳━━━━━━━━━━━━━━━━━━━┳━━━━━━━━━━━━┳━━━━━━━━━━━━━━━━━━━┓\n",
              "┃\u001b[1m \u001b[0m\u001b[1mLayer (type)       \u001b[0m\u001b[1m \u001b[0m┃\u001b[1m \u001b[0m\u001b[1mOutput Shape     \u001b[0m\u001b[1m \u001b[0m┃\u001b[1m \u001b[0m\u001b[1m   Param #\u001b[0m\u001b[1m \u001b[0m┃\u001b[1m \u001b[0m\u001b[1mConnected to     \u001b[0m\u001b[1m \u001b[0m┃\n",
              "┡━━━━━━━━━━━━━━━━━━━━━╇━━━━━━━━━━━━━━━━━━━╇━━━━━━━━━━━━╇━━━━━━━━━━━━━━━━━━━┩\n",
              "│ enc_inputs          │ (\u001b[38;5;45mNone\u001b[0m, \u001b[38;5;45mNone\u001b[0m)      │          \u001b[38;5;34m0\u001b[0m │ -                 │\n",
              "│ (\u001b[38;5;33mInputLayer\u001b[0m)        │                   │            │                   │\n",
              "├─────────────────────┼───────────────────┼────────────┼───────────────────┤\n",
              "│ dec_inputs          │ (\u001b[38;5;45mNone\u001b[0m, \u001b[38;5;45mNone\u001b[0m)      │          \u001b[38;5;34m0\u001b[0m │ -                 │\n",
              "│ (\u001b[38;5;33mInputLayer\u001b[0m)        │                   │            │                   │\n",
              "├─────────────────────┼───────────────────┼────────────┼───────────────────┤\n",
              "│ encoder_model       │ [(\u001b[38;5;45mNone\u001b[0m, \u001b[38;5;45mNone\u001b[0m,     │    \u001b[38;5;34m296,416\u001b[0m │ enc_inputs[\u001b[38;5;34m0\u001b[0m][\u001b[38;5;34m0\u001b[0m]  │\n",
              "│ (\u001b[38;5;33mFunctional\u001b[0m)        │ \u001b[38;5;34m256\u001b[0m), (\u001b[38;5;45mNone\u001b[0m,      │            │                   │\n",
              "│                     │ \u001b[38;5;34m256\u001b[0m), (\u001b[38;5;45mNone\u001b[0m,      │            │                   │\n",
              "│                     │ \u001b[38;5;34m256\u001b[0m)]             │            │                   │\n",
              "├─────────────────────┼───────────────────┼────────────┼───────────────────┤\n",
              "│ decoder_model       │ [(\u001b[38;5;45mNone\u001b[0m, \u001b[38;5;45mNone\u001b[0m,     │    \u001b[38;5;34m304,367\u001b[0m │ dec_inputs[\u001b[38;5;34m0\u001b[0m][\u001b[38;5;34m0\u001b[0m], │\n",
              "│ (\u001b[38;5;33mFunctional\u001b[0m)        │ \u001b[38;5;34m15\u001b[0m), (\u001b[38;5;45mNone\u001b[0m, \u001b[38;5;34m256\u001b[0m), │            │ encoder_model[\u001b[38;5;34m0\u001b[0m]… │\n",
              "│                     │ (\u001b[38;5;45mNone\u001b[0m, \u001b[38;5;34m256\u001b[0m)]      │            │ encoder_model[\u001b[38;5;34m0\u001b[0m]… │\n",
              "│                     │                   │            │ encoder_model[\u001b[38;5;34m0\u001b[0m]… │\n",
              "└─────────────────────┴───────────────────┴────────────┴───────────────────┘\n"
            ]
          },
          "metadata": {},
          "output_type": "display_data"
        },
        {
          "data": {
            "text/html": [
              "<pre style=\"white-space:pre;overflow-x:auto;line-height:normal;font-family:Menlo,'DejaVu Sans Mono',consolas,'Courier New',monospace\"><span style=\"font-weight: bold\"> Total params: </span><span style=\"color: #00af00; text-decoration-color: #00af00\">600,783</span> (2.29 MB)\n",
              "</pre>\n"
            ],
            "text/plain": [
              "\u001b[1m Total params: \u001b[0m\u001b[38;5;34m600,783\u001b[0m (2.29 MB)\n"
            ]
          },
          "metadata": {},
          "output_type": "display_data"
        },
        {
          "data": {
            "text/html": [
              "<pre style=\"white-space:pre;overflow-x:auto;line-height:normal;font-family:Menlo,'DejaVu Sans Mono',consolas,'Courier New',monospace\"><span style=\"font-weight: bold\"> Trainable params: </span><span style=\"color: #00af00; text-decoration-color: #00af00\">600,783</span> (2.29 MB)\n",
              "</pre>\n"
            ],
            "text/plain": [
              "\u001b[1m Trainable params: \u001b[0m\u001b[38;5;34m600,783\u001b[0m (2.29 MB)\n"
            ]
          },
          "metadata": {},
          "output_type": "display_data"
        },
        {
          "data": {
            "text/html": [
              "<pre style=\"white-space:pre;overflow-x:auto;line-height:normal;font-family:Menlo,'DejaVu Sans Mono',consolas,'Courier New',monospace\"><span style=\"font-weight: bold\"> Non-trainable params: </span><span style=\"color: #00af00; text-decoration-color: #00af00\">0</span> (0.00 B)\n",
              "</pre>\n"
            ],
            "text/plain": [
              "\u001b[1m Non-trainable params: \u001b[0m\u001b[38;5;34m0\u001b[0m (0.00 B)\n"
            ]
          },
          "metadata": {},
          "output_type": "display_data"
        }
      ],
      "source": [
        "EMBED_DIM  = 32\n",
        "ENC_UNITS = 256\n",
        "DEC_UNITS = 256\n",
        "\n",
        "encoder = create_encoder_model(VOCAB_SIZE, EMBED_DIM, ENC_UNITS)\n",
        "decoder = create_decoder_model(VOCAB_SIZE, EMBED_DIM, DEC_UNITS)\n",
        "seq2seq = create_seq2seq_model(encoder, decoder)\n",
        "\n",
        "encoder.summary()\n",
        "decoder.summary()\n",
        "seq2seq.summary()"
      ]
    },
    {
      "cell_type": "markdown",
      "metadata": {},
      "source": [
        "## Dataset"
      ]
    },
    {
      "cell_type": "markdown",
      "metadata": {},
      "source": [
        "### Methods"
      ]
    },
    {
      "cell_type": "code",
      "execution_count": 7,
      "metadata": {},
      "outputs": [],
      "source": [
        "\"\"\"\n",
        "Same as generate_dataset but returns also the expression\n",
        "\"\"\"\n",
        "def generate_dataset_express(n,max_depth=MAX_DEPTH):\n",
        "    X, Y, Expr = [], [], []\n",
        "    for _ in range(n):\n",
        "        expr = generate_infix_expression(MAX_DEPTH)\n",
        "        infix = tokenize(expr)\n",
        "        postfix = infix_to_postfix(infix)\n",
        "        X.append(encode(infix, max_depth = max_depth))\n",
        "        Y.append(encode(postfix, max_depth = max_depth))\n",
        "        Expr.append(expr)\n",
        "    return np.array(X), np.array(Y), Expr\n",
        "\n",
        "\"\"\"\n",
        "Used to generate validation set val_b\n",
        "with expressions that are not in the training set\n",
        "\"\"\"\n",
        "def generate_unique_dataset_express(n, exclude_set, max_depth=MAX_DEPTH):\n",
        "    \n",
        "    Xs, Ys, exprs = [], [], []\n",
        "    while len(exprs) < n:\n",
        "        # generate single expression\n",
        "        e = generate_infix_expression(max_depth)         \n",
        "        if e in exclude_set:\n",
        "            continue\n",
        "        # if not converted to postfix\n",
        "        tokens_in = tokenize(e)\n",
        "        tokens_out = infix_to_postfix(tokens_in)\n",
        "        Xs.append(encode(tokens_in, max_depth = max_depth))\n",
        "        Ys.append(encode(tokens_out, max_depth = max_depth))\n",
        "        exprs.append(e)\n",
        "        exclude_set.append(e)  # avoid repetition\n",
        "    return np.array(Xs), np.array(Ys), exprs\n",
        "\n",
        "\"\"\"\n",
        "Analyze the dataset for duplicates and their counts.\n",
        "This function will print the number of duplicates, their total counts,\n",
        "and the top 10 most frequent duplicates.\n",
        "\"\"\"\n",
        "def analize_dataset(data, max_depth=MAX_DEPTH):\n",
        "\n",
        "    idx_map = defaultdict(list)\n",
        "    for idx, key in enumerate(data):\n",
        "        idx_map[key].append(idx)    #for each string in data, keep track of all its indices\n",
        "    counts = {key: len(idxs) for key, idxs in idx_map.items() if len(idxs) > 1} #for each duplicate string in data, keep track of hpw many duplicates there are\n",
        "    duplicates = {key: idxs for key, idxs in idx_map.items() if len(idxs) > 1} #for each duplicate string in data, keep track of all its indices\n",
        "    total = sum(counts.values()) \n",
        "\n",
        "    print(f\"Found {len(duplicates)} duplicate string with totla counts: {total}\")\n",
        "    print(f\"the percentage of duplicates is: {total / len(data) * 100}%\")\n",
        "    print(\"the top 10 duplicates are:\")\n",
        "    for key, idxs in sorted(counts.items(), key=lambda x: x[1], reverse=True)[:10]:\n",
        "        print(f\"  {key} = {idxs}\")\n",
        "\n",
        "    return duplicates, counts\n"
      ]
    },
    {
      "cell_type": "markdown",
      "metadata": {},
      "source": [
        "### Dataset analysis"
      ]
    },
    {
      "cell_type": "code",
      "execution_count": 8,
      "metadata": {},
      "outputs": [
        {
          "name": "stdout",
          "output_type": "stream",
          "text": [
            "Generating dataset of size 20...\n",
            "Found 2 duplicate string with totla counts: 4\n",
            "the percentage of duplicates is: 20.0%\n",
            "the top 10 duplicates are:\n",
            "  d = 2\n",
            "  c = 2\n",
            "Dataset of size 20 generated with 2 duplicates.\n",
            "--------------------------------------------------\n",
            "Generating dataset of size 1000...\n",
            "Found 69 duplicate string with totla counts: 306\n",
            "the percentage of duplicates is: 30.599999999999998%\n",
            "the top 10 duplicates are:\n",
            "  e = 33\n",
            "  c = 27\n",
            "  d = 25\n",
            "  b = 20\n",
            "  a = 11\n",
            "  (d / e) = 6\n",
            "  (e / b) = 5\n",
            "  (a + a) = 5\n",
            "  (c * d) = 5\n",
            "  (e + b) = 5\n",
            "Dataset of size 1000 generated with 69 duplicates.\n",
            "--------------------------------------------------\n",
            "Generating dataset of size 5000...\n",
            "Found 224 duplicate string with totla counts: 1960\n",
            "the percentage of duplicates is: 39.2%\n",
            "the top 10 duplicates are:\n",
            "  b = 142\n",
            "  c = 130\n",
            "  e = 129\n",
            "  d = 127\n",
            "  a = 123\n",
            "  (b / e) = 18\n",
            "  (c * c) = 18\n",
            "  (d / a) = 16\n",
            "  (a + b) = 16\n",
            "  (c * e) = 15\n",
            "Dataset of size 5000 generated with 224 duplicates.\n",
            "--------------------------------------------------\n",
            "Generating dataset of size 10000...\n",
            "Found 555 duplicate string with totla counts: 4409\n",
            "the percentage of duplicates is: 44.09%\n",
            "the top 10 duplicates are:\n",
            "  d = 256\n",
            "  c = 254\n",
            "  e = 252\n",
            "  a = 251\n",
            "  b = 242\n",
            "  (d - e) = 39\n",
            "  (e * c) = 36\n",
            "  (b + e) = 33\n",
            "  (b - b) = 31\n",
            "  (a - a) = 31\n",
            "Dataset of size 10000 generated with 555 duplicates.\n",
            "--------------------------------------------------\n",
            "Generating dataset of size 100000...\n",
            "Found 5892 duplicate string with totla counts: 60233\n",
            "the percentage of duplicates is: 60.233000000000004%\n",
            "the top 10 duplicates are:\n",
            "  a = 2520\n",
            "  d = 2491\n",
            "  b = 2478\n",
            "  c = 2460\n",
            "  e = 2425\n",
            "  (d + a) = 252\n",
            "  (c * b) = 252\n",
            "  (e / d) = 249\n",
            "  (d + e) = 245\n",
            "  (a - e) = 244\n",
            "Dataset of size 100000 generated with 5892 duplicates.\n",
            "--------------------------------------------------\n"
          ]
        }
      ],
      "source": [
        "sizes = [20, 1_000, 5_000, 10_000, 100_000]\n",
        "for size in sizes:\n",
        "    print(f\"Generating dataset of size {size}...\")\n",
        "    _, _, Expr = generate_dataset_express(size)\n",
        "    duplicates, _ = analize_dataset(Expr)\n",
        "    print(f\"Dataset of size {size} generated with {len(duplicates)} duplicates.\")\n",
        "    print(\"-\" * 50)"
      ]
    },
    {
      "cell_type": "markdown",
      "metadata": {},
      "source": [
        "### Dataset Size & Sampling Strategy\n",
        "\n",
        "In general, the rule of thumb is: *“the more data, the better”*. However, because we want the model to **learn translation rules**—rather than simply memorize input-output pairs—I chose a **static** dataset of 10 000 samples. This size strikes a balance between:\n",
        "\n",
        "* **Coverage** (few duplicates)\n",
        "* **Manageability** (still large enough to learn patterns)\n",
        "\n",
        "Given the task definition, generating 10 000 samples once versus on-the-fly for 10 000 iterations yields statistically equivalent distributions. What truly matters is the **batch size** and **how batches are constructed**.\n",
        "\n",
        "I opted **not** to generate batches dynamically (even though that would introduce fresh or semi-fresh data each epoch) for three reasons:\n",
        "\n",
        "1. **Training speed**\n",
        "2. **Task simplicity**: seq2seq translation rules here are straightforward\n",
        "3. **Overfitting prevention**"
      ]
    },
    {
      "cell_type": "markdown",
      "metadata": {},
      "source": [
        "### Dataset generation"
      ]
    },
    {
      "cell_type": "code",
      "execution_count": 9,
      "metadata": {},
      "outputs": [
        {
          "name": "stdout",
          "output_type": "stream",
          "text": [
            "Found 547 duplicate string with totla counts: 4324\n",
            "the percentage of duplicates is: 43.24%\n",
            "the top 10 duplicates are:\n",
            "  a = 260\n",
            "  e = 260\n",
            "  c = 245\n",
            "  b = 233\n",
            "  d = 227\n",
            "  (c / d) = 31\n",
            "  (b + e) = 30\n",
            "  (b / c) = 30\n",
            "  (e + c) = 29\n",
            "  (a - d) = 29\n"
          ]
        }
      ],
      "source": [
        "# Train dataset\n",
        "N_SAMPLES = 10_000\n",
        "X_train, Y_train, expr_train = generate_dataset_express(N_SAMPLES)\n",
        "decoder_input_train = shift_right(Y_train)\n",
        "_, _ = analize_dataset(expr_train)"
      ]
    },
    {
      "cell_type": "code",
      "execution_count": 10,
      "metadata": {},
      "outputs": [
        {
          "name": "stdout",
          "output_type": "stream",
          "text": [
            "Found 74 duplicate string with totla counts: 338\n",
            "the percentage of duplicates is: 33.800000000000004%\n",
            "the top 10 duplicates are:\n",
            "  a = 29\n",
            "  b = 28\n",
            "  c = 27\n",
            "  e = 26\n",
            "  d = 16\n",
            "  (b * b) = 7\n",
            "  (d / c) = 6\n",
            "  (d / e) = 5\n",
            "  (a * a) = 5\n",
            "  (c * c) = 5\n"
          ]
        }
      ],
      "source": [
        "# Vanilla validation dataset val_1\n",
        "N_VAL = 1_000\n",
        "X_val_1, Y_val_1, expr = generate_dataset_express(N_VAL)\n",
        "decoder_input_val_1 = shift_right(Y_val_1)\n",
        "_, _ = analize_dataset(expr)"
      ]
    },
    {
      "cell_type": "markdown",
      "metadata": {},
      "source": [
        "### Validation Strategy\n",
        "\n",
        "During training, I use **three different validation sets**, this are two of the tree:\n",
        "\n",
        "1. **Default validation**\n",
        "\n",
        "   * Verifies that each epoch’s updates actually improve performance when we know the true token before (teacher forcing)\n",
        "   * Drives **Early Stopping** and **Checkpointing**\n",
        "   * Expected behavior:\n",
        "\n",
        "     * $Accuracy_\\text{train}\\le Accuracy_\\text{val}$ *(since some data of this validation set are necessarly alredy seen in the training set for construction)*\n",
        "     * **$Loss_\\text{val}$** ↓ each epoch, with a small train–val gap\n",
        "\n",
        "2. **Validation B (val\\_b)**\n",
        "\n",
        "   * Composed of data **not** present in the training set.  \n",
        "\n",
        "   * Uses *short-string-free* data—i.e., only longer inputs  \n",
        "\n",
        "   * Naturally length-biased, so it’s **not used for training automatic decisions**, since this *conflicts with the project constraints*  \n",
        "   \n",
        "   * Verifies that each epoch’s updates actually improve performance when we know the true token before (teacher forcing)\n"
      ]
    },
    {
      "cell_type": "code",
      "execution_count": 11,
      "metadata": {},
      "outputs": [
        {
          "name": "stdout",
          "output_type": "stream",
          "text": [
            "Found 0 duplicate string with totla counts: 0\n",
            "the percentage of duplicates is: 0.0%\n",
            "the top 10 duplicates are:\n"
          ]
        }
      ],
      "source": [
        "# val_b without duplicates\n",
        "X_val_b, Y_val_b, expr = generate_unique_dataset_express(N_VAL, expr_train)\n",
        "decoder_input_val_b = shift_right(Y_val_b)\n",
        "_, _ = analize_dataset(expr)\n"
      ]
    },
    {
      "cell_type": "markdown",
      "metadata": {},
      "source": [
        "\n",
        "To find the optimal `BATCH_SIZE`, I ran several tests and discovered that **8** and **16** yield the best results.  \n",
        "As I decreased the batch size, the number of epochs required for the model to converge to a good (or optimal) solution also dropped.  \n",
        "I attribute this behavior to the fact that, with a batch size of 8 or 16, since the probability of duplicates within the batch tend to 0, the model focuses on learning the translation rules rather than memorizing specific input-output mappings.\n",
        "\n",
        ">BATCH_SIZE = 256  \n",
        "Epoch 30  \n",
        "Loss: 0.0048 | Accuracy: 0.9998 | Val Loss: 0.0050 | Val Accuracy: 0.9966 | Val B Loss: 0.0090 | Val B Accuracy: 0.9991 | Prefix Acc: 0.9966  \n",
        "FINAL SCORE = 0.9947 STD = 0.0105  1/1\n",
        "\n",
        ">BATCH_SIZE = 128  \n",
        "Epoch 21   \n",
        "Loss: 0.0008 | Accuracy: 1.0000 | Val Loss: 0.0010 | Val Accuracy: 1.0000 | Val B Loss: 0.0017 | Val B Accuracy: 1.0000 | Prefix Acc: 1.0000  \n",
        "FINAL SCORE = 0.9966 STD = 0.0103  1/1\n",
        "\n",
        ">BATCH_SIZE = 64  \n",
        "Epoch 15   \n",
        "Loss: 0.0003 | Accuracy: 1.0000 | Val Loss: 0.0003 | Val Accuracy: 1.0000 | Val B Loss: 0.0006 | Val B Accuracy: 1.0000 | Prefix Acc: 1.0000  \n",
        "FINAL SCORE = 1.0000 STD = 0.0000  1/1\n",
        "\n",
        ">BATCH_SIZE = 16  \n",
        "Epoch 9   \n",
        "Loss: 0.0001 | Accuracy: 1.0000 | Val Loss: 0.0001 | Val Accuracy: 1.0000 | Val B Loss: 0.0001 | Val B Accuracy: 1.0000 | Prefix Acc: 1.0000  \n",
        "FINAL SCORE = 1.0000 STD = 0.0000  2/5  \n",
        "\n",
        ">BATCH_SIZE = 8  \n",
        "Epoch 8   \n",
        "Loss: 0.0000 | Accuracy: 1.0000 | Val Loss: 0.0000 | Val Accuracy: 1.0000 | Val B Loss: 0.0000 | Val B Accuracy: 1.0000 | Prefix Acc: 1.0000  \n",
        "FINAL SCORE = 1.0000 STD = 0.0000  5/5\n",
        "\n",
        "*exstract from report.md*\n"
      ]
    },
    {
      "cell_type": "code",
      "execution_count": 12,
      "metadata": {},
      "outputs": [],
      "source": [
        "BATCH_SIZE = 16\n",
        "\n",
        "def make_dataset(enc_in, dec_in, target):\n",
        "    ds = tf.data.Dataset.from_tensor_slices(((enc_in, dec_in), target))\n",
        "    ds = ds.batch(BATCH_SIZE) \\\n",
        "           .prefetch(tf.data.AUTOTUNE)\n",
        "    return ds\n",
        "\n",
        "train_ds = make_dataset(X_train, decoder_input_train, Y_train)\n",
        "val_ds   = make_dataset(X_val_1, decoder_input_val_1, Y_val_1)\n",
        "val_ds_b = make_dataset(X_val_b, decoder_input_val_b, Y_val_b)"
      ]
    },
    {
      "cell_type": "markdown",
      "metadata": {},
      "source": [
        "## Evaluate functions"
      ]
    },
    {
      "cell_type": "markdown",
      "metadata": {},
      "source": [
        "`autoregressive_decode` function. Here’s the workflow:\n",
        "\n",
        "1. **Prepare Input:** Adds a batch dimension to `encoder_input`.\n",
        "2. **Encode:** Passes input through the encoder to get encoded outputs and initial hidden states.\n",
        "3. **Initialize Decoder:** Starts decoding with the start-of-sequence token (`SOS_ID`).\n",
        "4. **Iterative Decoding:** For up to `MAX_LEN` steps:\n",
        "   - Feeds the current token and states into the decoder.\n",
        "   - Selects the most probable next token (greedy decoding).\n",
        "   - Appends the token to the output sequence.\n",
        "   - Stops if the end-of-sequence token (`EOS_ID`) is generated.\n",
        "5. **Return:** Outputs the generated token sequence."
      ]
    },
    {
      "cell_type": "code",
      "execution_count": 13,
      "metadata": {},
      "outputs": [],
      "source": [
        "def autoregressive_decode(encoder_input, max_depth=MAX_DEPTH):\n",
        "    max_len = 4 * 2**max_depth - 2 \n",
        "    enc_in = encoder_input[None, :] # Add batch dimension\n",
        "    enc_outs, h, c = encoder.predict(enc_in, verbose=0)\n",
        "\n",
        "    token = np.array([[SOS_ID]])\n",
        "    output_seq = []\n",
        "    for _ in range(max_len):\n",
        "        logits, h, c = decoder.predict([token, enc_outs, h, c], verbose=0)\n",
        "        # greedy decoding\n",
        "        sampled_id = np.argmax(logits[0, 0, :])\n",
        "        output_seq.append(sampled_id)\n",
        "        if sampled_id == EOS_ID:\n",
        "            break\n",
        "        token = np.array([[sampled_id]])\n",
        "    return output_seq\n",
        "\n",
        "\"\"\"\n",
        "All the adds did to the test function are to make have more or less verbose outputs\n",
        "\"\"\"\n",
        "def test(no=20,rounds=10,max_depth=MAX_DEPTH,verbose_n=0, verbose_round = True):  # added max depth and verbose\n",
        "  rscores =[]\n",
        "  for i in range(rounds):\n",
        "    if verbose_round:                                                     # added\n",
        "      print(\"================================================\")           # added\n",
        "      print(f\"round={i}\")\n",
        "      print(\"------------------------------------------------\")           # added\n",
        "    X_test, Y_test = generate_dataset(no, max_depth)                      # added max depth\n",
        "    scores = []\n",
        "    n = verbose_n                                                         # added\n",
        "    for j in range(no): \n",
        "      if n < (no+1):                                                      # added     \n",
        "        if n <= 0:                                                        # added\n",
        "          verbose = False                                                 # added\n",
        "        else:                                                             # added\n",
        "          verbose = True                                                  # added  \n",
        "        n -= 1                                                            # added\n",
        "      encoder_input=X_test[j]\n",
        "      generated = autoregressive_decode(encoder_input,max_depth=max_depth)                    # [1:] In my case no nedd to remove SOS, the function returns it whitout\n",
        "      if verbose:                                                         # added\n",
        "        print(f\"~~~~~ es number {j} ~~~~~\")                               # added\n",
        "      scores.append(prefix_accuracy_single(Y_test[j], generated, id_to_token, verbose=verbose))\n",
        "    if verbose_n > 0:                                                     # added\n",
        "      print(\"------------------------------------------------\")           # added\n",
        "    if verbose_round:                                                     # added\n",
        "      print(f\"mean scores={np.mean(scores):.4f} std={np.std(scores):.4f}\")# added\n",
        "    rscores.append(np.mean(scores))\n",
        "  mean_pref_acc = np.mean(rscores)\n",
        "  std_pref_acc = np.std(rscores)\n",
        "  print(\"================================================\")               # added\n",
        "  print(f\"FINAL SCORE = {mean_pref_acc:.4f} STD = {std_pref_acc:.4f}\")    # added\n",
        "  return mean_pref_acc,std_pref_acc"
      ]
    },
    {
      "cell_type": "markdown",
      "metadata": {},
      "source": [
        "## Training"
      ]
    },
    {
      "cell_type": "markdown",
      "metadata": {},
      "source": [
        "### Classes used"
      ]
    },
    {
      "cell_type": "markdown",
      "metadata": {},
      "source": [
        "##### For validation purposes"
      ]
    },
    {
      "cell_type": "code",
      "execution_count": 14,
      "metadata": {},
      "outputs": [],
      "source": [
        "\"\"\"\n",
        "This is the second validation callback, used to evaluate the model on the validation set val_b.\n",
        "It evaluates the model at the end of each epoch and prints the validation accuracy and loss with a dataset without repetitions.\n",
        "\"\"\"\n",
        "\n",
        "class ValidationB(tf.keras.callbacks.Callback):\n",
        "    def __init__(self, model, val_ds, batch_size=BATCH_SIZE):\n",
        "        super().__init__()\n",
        "        self.val_ds = val_ds\n",
        "        self.history = [] \n",
        "        self.model_to_eval = model\n",
        "        self.batch_size = batch_size\n",
        "\n",
        "    def on_epoch_end(self, epoch, logs=None):\n",
        "        results = self.model_to_eval.evaluate(self.val_ds, verbose=0, return_dict=True)\n",
        "        acc = results.get(\"sparse_categorical_accuracy\", None)\n",
        "        loss = results.get(\"loss\", None)\n",
        "        if acc is not None and loss is not None:\n",
        "            logs = logs or {}\n",
        "            logs['val_b_sparCateg_accuracy'] = acc\n",
        "            logs['val_b_loss'] = loss\n",
        "            self.history.append([acc, loss])\n",
        "            # print(f\"|| — val_b_loss: {loss:.4f} — val_b_sparCateg_accuracy: {acc:.4f}\")\n",
        "\n",
        "\n",
        "\"\"\"\n",
        "This is the thirf and last validation callback. \n",
        "It uses autoregressive decoding to evaluate the model on a set of data produced in a simiar way to the test() function.\n",
        "\"\"\"\n",
        "class PrefixAccuracyCallback(tf.keras.callbacks.Callback):\n",
        "    def __init__(self, id_to_token):\n",
        "        super().__init__()\n",
        "        # Validation data generated on the fly, total 4 sets of 25 samples each\n",
        "        # this to metch with the test() function in the notebook\n",
        "        X_Y_val = []\n",
        "        for i in range(4):\n",
        "            X_Y_val.append(generate_dataset(25))\n",
        "        self.X_val = [x for x, _ in X_Y_val]\n",
        "        self.Y_val = [y for _, y in X_Y_val]\n",
        "        self.id_to_token = id_to_token\n",
        "        self.history = [] # to store the prefix accuracy for each epoch\n",
        "\n",
        "    def on_epoch_end(self, epoch, logs=None):\n",
        "        mscores = []\n",
        "        for i in range(len(self.X_val)):\n",
        "            X_temp, Y_temp = self.X_val[i], self.Y_val[i]\n",
        "            scores = [\n",
        "                prefix_accuracy_single(y, autoregressive_decode(x), self.id_to_token)\n",
        "                for x, y in zip(X_temp, Y_temp)\n",
        "            ]\n",
        "            mean_score = np.mean(scores)\n",
        "            mscores.append(mean_score)\n",
        "        mean_mean_score = np.mean(mscores)\n",
        "        self.history.append(mean_mean_score)\n",
        "        logs = logs or {}\n",
        "        logs['val_prefix_acc'] = mean_mean_score\n",
        "        # print(f\"|| — val_prefix_acc: {mean_mean_score:.4f}\")"
      ]
    },
    {
      "cell_type": "markdown",
      "metadata": {},
      "source": [
        "##### General purposes"
      ]
    },
    {
      "cell_type": "code",
      "execution_count": 15,
      "metadata": {},
      "outputs": [],
      "source": [
        "\"\"\"\n",
        "To save the batch-wise metrics during training, we define a custom callback.\n",
        "This callback will store the loss and accuracy for each training batch.\n",
        "This can be useful for debugging or for plotting training curves later.\n",
        "\"\"\"\n",
        "class BatchMetricsCallback(tf.keras.callbacks.Callback):\n",
        "    def on_train_begin(self, logs=None):\n",
        "        self.batch_losses = []\n",
        "        self.batch_acc    = []\n",
        "    def on_train_batch_end(self, batch, logs=None):\n",
        "        self.batch_losses.append(logs['loss'])\n",
        "        self.batch_acc.append(logs['sparse_categorical_accuracy'])\n",
        "\n",
        "\n",
        "\"\"\"\n",
        "This is a custom EarlyStopping callback that prints the name of the callback that ended the training.\n",
        "\"\"\"\n",
        "class NamedEarlyStopping(tf.keras.callbacks.EarlyStopping):\n",
        "    def __init__(self, name, **kwargs):\n",
        "        super().__init__(**kwargs)\n",
        "        self._name = name\n",
        "        self.stopped_by = None\n",
        "\n",
        "    def on_train_end(self, logs=None):\n",
        "        # if stopped_epoch > 0 => this callback decided to stop training\n",
        "        if self.stopped_epoch > 0:\n",
        "            setattr(self, 'stopped_by', self._name)\n",
        "            print(f\"EarlyStopping “{self._name}” (epoch {self.stopped_epoch})\")\n",
        "        super().on_train_end(logs)\n",
        "\n",
        "\n",
        "\"\"\"\n",
        "This is a custom callback that logs the training progress at the end of each epoch.\n",
        "It collects the loss, accuracy, validation loss, validation accuracy, and prefix accuracy.\n",
        "\"\"\"\n",
        "class ReportLogger(tf.keras.callbacks.Callback):\n",
        "    def __init__(self, call_early_stopping=None):\n",
        "        super().__init__()\n",
        "        self.final_report = []\n",
        "        self.call_early_stopping = call_early_stopping or []\n",
        "\n",
        "    def on_epoch_end(self, epoch, logs=None):\n",
        "        accuracy = logs.get(\"sparse_categorical_accuracy\", None)\n",
        "        l = logs[\"loss\"]\n",
        "        va_acc = logs.get(\"val_prefix_acc\", logs.get(\"val_sparse_categorical_accuracy\"))\n",
        "        va_loss = logs.get(\"val_loss\", None)\n",
        "        va_b_acc = logs.get(\"val_b_sparCateg_accuracy\", None)\n",
        "        va_b_loss = logs.get(\"val_b_loss\", None)\n",
        "        prefix__acc = logs.get(\"val_prefix_acc\", None)\n",
        "        line = f\"Epoch {epoch + 1:03d} | \" \\\n",
        "               f\"Loss: {l:.4f} | \" \\\n",
        "               f\"Accuracy: {accuracy:.4f} | \" \\\n",
        "               f\"Val Loss: {va_loss:.4f} | \" \\\n",
        "               f\"Val Accuracy: {va_acc:.4f} | \" \\\n",
        "               f\"Val B Loss: {va_b_loss:.4f} | \" \\\n",
        "               f\"Val B Accuracy: {va_b_acc:.4f} | \" \\\n",
        "               f\"Prefix Acc: {prefix__acc:.4f}\\n\"\n",
        "        # print(line, end=\"\")\n",
        "        self.final_report.append(line)\n",
        "\n",
        "    def on_train_end(self, logs=None):\n",
        "        # for saving witch one called the end of training\n",
        "        if self.call_early_stopping:\n",
        "            for cb in self.call_early_stopping:\n",
        "                if hasattr(cb, 'stopped_by'):\n",
        "                    self.stopped_by = cb.stopped_by\n",
        "                    self.final_report.append(f\"Training stopped by: {self.stopped_by}\\n\")"
      ]
    },
    {
      "cell_type": "markdown",
      "metadata": {},
      "source": [
        "### Training"
      ]
    },
    {
      "cell_type": "markdown",
      "metadata": {},
      "source": [
        "My setup uses:\n",
        "\n",
        "* **`sparse_categorical_crossentropy`** — the multi-class extension of cross-entropy:\n",
        "\n",
        "  $$\n",
        "    \\mathcal{L} = -\\log\\bigl(p_{y}\\bigr)\n",
        "  $$\n",
        "\n",
        "  where $p_{y}$ is the probability assigned by the model to the true class $y$. This is perfect, since at each decoder step we predict an integer corresponding to a vocabulary token (padding, operators, identifiers, EOS).\n",
        "\n",
        "* **`sparse_categorical_accuracy`** — measures the percentage of steps where the highest-probability index\n",
        "  $\\arg\\max(\\mathbf{p})$ matches the integer label $y$. For a batch of $N$ tokens:\n",
        "\n",
        "  $$\n",
        "    \\text{accuracy} = \\frac{1}{N}\\sum_{i=1}^N \\mathbf{1}\\bigl(\\arg\\max_j\\,p_{i,j} = y_i\\bigr).\n",
        "  $$\n",
        "\n",
        "* **Adam** — chosen for convenience, since our 2,000,000-parameter constraint allows it.\n",
        "\n",
        "---\n",
        "\n",
        "I train for **30 epochs** with **early stopping** to monitor overall performance.  \n",
        "I set `patience = 5` on both the **vanilla validation loss** and the **prefix_accuracy_val_set**. That way, training only stops if there’s no significative improvement.  \n",
        "This especially in **prefix_accuracy_val_set**, which truly reflects, *autoregressively*, how well the model understands the string structure.  \n",
        "Through the positions of the callbacks I have given more importance to **prefix_accuracy_val_set** so that in case of a tie the weights to be taken are the latter (this should also help to not overfit by taking weights that generate low losses but that do not lead to effective improvements in the model's performance)"
      ]
    },
    {
      "cell_type": "code",
      "execution_count": 16,
      "metadata": {},
      "outputs": [
        {
          "name": "stdout",
          "output_type": "stream",
          "text": [
            "Epoch 1/30\n",
            "\u001b[1m625/625\u001b[0m \u001b[32m━━━━━━━━━━━━━━━━━━━━\u001b[0m\u001b[37m\u001b[0m \u001b[1m51s\u001b[0m 83ms/step - loss: 0.5656 - sparse_categorical_accuracy: 0.8121 - val_loss: 0.3142 - val_sparse_categorical_accuracy: 0.8670 - val_prefix_acc: 0.3131 - val_b_sparCateg_accuracy: 0.8087 - val_b_loss: 0.4561\n",
            "Epoch 2/30\n",
            "\u001b[1m625/625\u001b[0m \u001b[32m━━━━━━━━━━━━━━━━━━━━\u001b[0m\u001b[37m\u001b[0m \u001b[1m50s\u001b[0m 80ms/step - loss: 0.2822 - sparse_categorical_accuracy: 0.8825 - val_loss: 0.1796 - val_sparse_categorical_accuracy: 0.9317 - val_prefix_acc: 0.6906 - val_b_sparCateg_accuracy: 0.8870 - val_b_loss: 0.2869\n",
            "Epoch 3/30\n",
            "\u001b[1m625/625\u001b[0m \u001b[32m━━━━━━━━━━━━━━━━━━━━\u001b[0m\u001b[37m\u001b[0m \u001b[1m50s\u001b[0m 80ms/step - loss: 0.1283 - sparse_categorical_accuracy: 0.9507 - val_loss: 0.0485 - val_sparse_categorical_accuracy: 0.9829 - val_prefix_acc: 0.8984 - val_b_sparCateg_accuracy: 0.9695 - val_b_loss: 0.0866\n",
            "Epoch 4/30\n",
            "\u001b[1m625/625\u001b[0m \u001b[32m━━━━━━━━━━━━━━━━━━━━\u001b[0m\u001b[37m\u001b[0m \u001b[1m52s\u001b[0m 83ms/step - loss: 0.0316 - sparse_categorical_accuracy: 0.9906 - val_loss: 0.0065 - val_sparse_categorical_accuracy: 0.9990 - val_prefix_acc: 0.9937 - val_b_sparCateg_accuracy: 0.9977 - val_b_loss: 0.0117\n",
            "Epoch 5/30\n",
            "\u001b[1m625/625\u001b[0m \u001b[32m━━━━━━━━━━━━━━━━━━━━\u001b[0m\u001b[37m\u001b[0m \u001b[1m51s\u001b[0m 81ms/step - loss: 0.0039 - sparse_categorical_accuracy: 0.9995 - val_loss: 0.0010 - val_sparse_categorical_accuracy: 1.0000 - val_prefix_acc: 1.0000 - val_b_sparCateg_accuracy: 0.9999 - val_b_loss: 0.0018\n",
            "Epoch 6/30\n",
            "\u001b[1m625/625\u001b[0m \u001b[32m━━━━━━━━━━━━━━━━━━━━\u001b[0m\u001b[37m\u001b[0m \u001b[1m50s\u001b[0m 80ms/step - loss: 5.9702e-04 - sparse_categorical_accuracy: 1.0000 - val_loss: 3.8410e-04 - val_sparse_categorical_accuracy: 1.0000 - val_prefix_acc: 1.0000 - val_b_sparCateg_accuracy: 1.0000 - val_b_loss: 6.9390e-04\n",
            "Epoch 7/30\n",
            "\u001b[1m625/625\u001b[0m \u001b[32m━━━━━━━━━━━━━━━━━━━━\u001b[0m\u001b[37m\u001b[0m \u001b[1m52s\u001b[0m 83ms/step - loss: 2.7306e-04 - sparse_categorical_accuracy: 1.0000 - val_loss: 2.2715e-04 - val_sparse_categorical_accuracy: 1.0000 - val_prefix_acc: 1.0000 - val_b_sparCateg_accuracy: 1.0000 - val_b_loss: 4.0099e-04\n",
            "Epoch 8/30\n",
            "\u001b[1m625/625\u001b[0m \u001b[32m━━━━━━━━━━━━━━━━━━━━\u001b[0m\u001b[37m\u001b[0m \u001b[1m50s\u001b[0m 81ms/step - loss: 1.5823e-04 - sparse_categorical_accuracy: 1.0000 - val_loss: 1.4447e-04 - val_sparse_categorical_accuracy: 1.0000 - val_prefix_acc: 1.0000 - val_b_sparCateg_accuracy: 1.0000 - val_b_loss: 2.4975e-04\n",
            "Epoch 9/30\n",
            "\u001b[1m625/625\u001b[0m \u001b[32m━━━━━━━━━━━━━━━━━━━━\u001b[0m\u001b[37m\u001b[0m \u001b[1m51s\u001b[0m 81ms/step - loss: 9.9181e-05 - sparse_categorical_accuracy: 1.0000 - val_loss: 9.5191e-05 - val_sparse_categorical_accuracy: 1.0000 - val_prefix_acc: 1.0000 - val_b_sparCateg_accuracy: 1.0000 - val_b_loss: 1.6314e-04\n",
            "Epoch 10/30\n",
            "\u001b[1m625/625\u001b[0m \u001b[32m━━━━━━━━━━━━━━━━━━━━\u001b[0m\u001b[37m\u001b[0m \u001b[1m52s\u001b[0m 83ms/step - loss: 6.4914e-05 - sparse_categorical_accuracy: 1.0000 - val_loss: 6.4089e-05 - val_sparse_categorical_accuracy: 1.0000 - val_prefix_acc: 1.0000 - val_b_sparCateg_accuracy: 1.0000 - val_b_loss: 1.0967e-04\n",
            "EarlyStopping “val_loss” (epoch 9)\n",
            "EarlyStopping “val_prefix_acc” (epoch 9)\n"
          ]
        }
      ],
      "source": [
        "EPOCHS = 30\n",
        "\n",
        "es = NamedEarlyStopping(\n",
        "    name=\"val_loss\",\n",
        "    monitor=\"val_loss\",\n",
        "    patience=5,\n",
        "    min_delta=0.003, # we espect more improvments in loss\n",
        "    restore_best_weights=True\n",
        ")\n",
        "\n",
        "es_prefix = NamedEarlyStopping(\n",
        "    name=\"val_prefix_acc\",\n",
        "    monitor=\"val_prefix_acc\",\n",
        "    mode=\"max\",\n",
        "    patience=5,\n",
        "    min_delta=0.001, # is important there are even small improvements\n",
        "    restore_best_weights=True\n",
        ")\n",
        "\n",
        "batch_cb  = BatchMetricsCallback()\n",
        "prefix_cb = PrefixAccuracyCallback(id_to_token)\n",
        "val_b = ValidationB(seq2seq, val_ds_b)\n",
        "report_cb = ReportLogger(call_early_stopping=[es, es_prefix])\n",
        "\n",
        "seq2seq.compile(\n",
        "    optimizer=\"adam\",\n",
        "    loss=\"sparse_categorical_crossentropy\",\n",
        "    metrics=[\"sparse_categorical_accuracy\"]\n",
        ")\n",
        "\n",
        "history = seq2seq.fit(\n",
        "    train_ds,\n",
        "    validation_data=val_ds,\n",
        "    epochs=EPOCHS,\n",
        "    callbacks=[batch_cb, prefix_cb, val_b, es, es_prefix, report_cb]\n",
        ")\n"
      ]
    },
    {
      "cell_type": "markdown",
      "metadata": {},
      "source": [
        "## Plot"
      ]
    },
    {
      "cell_type": "code",
      "execution_count": 17,
      "metadata": {},
      "outputs": [
        {
          "data": {
            "text/html": [
              "<pre style=\"white-space:pre;overflow-x:auto;line-height:normal;font-family:Menlo,'DejaVu Sans Mono',consolas,'Courier New',monospace\"><span style=\"font-weight: bold\">Model: \"seq2seq_model\"</span>\n",
              "</pre>\n"
            ],
            "text/plain": [
              "\u001b[1mModel: \"seq2seq_model\"\u001b[0m\n"
            ]
          },
          "metadata": {},
          "output_type": "display_data"
        },
        {
          "data": {
            "text/html": [
              "<pre style=\"white-space:pre;overflow-x:auto;line-height:normal;font-family:Menlo,'DejaVu Sans Mono',consolas,'Courier New',monospace\">┏━━━━━━━━━━━━━━━━━━━━━┳━━━━━━━━━━━━━━━━━━━┳━━━━━━━━━━━━┳━━━━━━━━━━━━━━━━━━━┓\n",
              "┃<span style=\"font-weight: bold\"> Layer (type)        </span>┃<span style=\"font-weight: bold\"> Output Shape      </span>┃<span style=\"font-weight: bold\">    Param # </span>┃<span style=\"font-weight: bold\"> Connected to      </span>┃\n",
              "┡━━━━━━━━━━━━━━━━━━━━━╇━━━━━━━━━━━━━━━━━━━╇━━━━━━━━━━━━╇━━━━━━━━━━━━━━━━━━━┩\n",
              "│ enc_inputs          │ (<span style=\"color: #00d7ff; text-decoration-color: #00d7ff\">None</span>, <span style=\"color: #00d7ff; text-decoration-color: #00d7ff\">None</span>)      │          <span style=\"color: #00af00; text-decoration-color: #00af00\">0</span> │ -                 │\n",
              "│ (<span style=\"color: #0087ff; text-decoration-color: #0087ff\">InputLayer</span>)        │                   │            │                   │\n",
              "├─────────────────────┼───────────────────┼────────────┼───────────────────┤\n",
              "│ dec_inputs          │ (<span style=\"color: #00d7ff; text-decoration-color: #00d7ff\">None</span>, <span style=\"color: #00d7ff; text-decoration-color: #00d7ff\">None</span>)      │          <span style=\"color: #00af00; text-decoration-color: #00af00\">0</span> │ -                 │\n",
              "│ (<span style=\"color: #0087ff; text-decoration-color: #0087ff\">InputLayer</span>)        │                   │            │                   │\n",
              "├─────────────────────┼───────────────────┼────────────┼───────────────────┤\n",
              "│ encoder_model       │ [(<span style=\"color: #00d7ff; text-decoration-color: #00d7ff\">None</span>, <span style=\"color: #00d7ff; text-decoration-color: #00d7ff\">None</span>,     │    <span style=\"color: #00af00; text-decoration-color: #00af00\">296,416</span> │ enc_inputs[<span style=\"color: #00af00; text-decoration-color: #00af00\">0</span>][<span style=\"color: #00af00; text-decoration-color: #00af00\">0</span>]  │\n",
              "│ (<span style=\"color: #0087ff; text-decoration-color: #0087ff\">Functional</span>)        │ <span style=\"color: #00af00; text-decoration-color: #00af00\">256</span>), (<span style=\"color: #00d7ff; text-decoration-color: #00d7ff\">None</span>,      │            │                   │\n",
              "│                     │ <span style=\"color: #00af00; text-decoration-color: #00af00\">256</span>), (<span style=\"color: #00d7ff; text-decoration-color: #00d7ff\">None</span>,      │            │                   │\n",
              "│                     │ <span style=\"color: #00af00; text-decoration-color: #00af00\">256</span>)]             │            │                   │\n",
              "├─────────────────────┼───────────────────┼────────────┼───────────────────┤\n",
              "│ decoder_model       │ [(<span style=\"color: #00d7ff; text-decoration-color: #00d7ff\">None</span>, <span style=\"color: #00d7ff; text-decoration-color: #00d7ff\">None</span>,     │    <span style=\"color: #00af00; text-decoration-color: #00af00\">304,367</span> │ dec_inputs[<span style=\"color: #00af00; text-decoration-color: #00af00\">0</span>][<span style=\"color: #00af00; text-decoration-color: #00af00\">0</span>], │\n",
              "│ (<span style=\"color: #0087ff; text-decoration-color: #0087ff\">Functional</span>)        │ <span style=\"color: #00af00; text-decoration-color: #00af00\">15</span>), (<span style=\"color: #00d7ff; text-decoration-color: #00d7ff\">None</span>, <span style=\"color: #00af00; text-decoration-color: #00af00\">256</span>), │            │ encoder_model[<span style=\"color: #00af00; text-decoration-color: #00af00\">0</span>]… │\n",
              "│                     │ (<span style=\"color: #00d7ff; text-decoration-color: #00d7ff\">None</span>, <span style=\"color: #00af00; text-decoration-color: #00af00\">256</span>)]      │            │ encoder_model[<span style=\"color: #00af00; text-decoration-color: #00af00\">0</span>]… │\n",
              "│                     │                   │            │ encoder_model[<span style=\"color: #00af00; text-decoration-color: #00af00\">0</span>]… │\n",
              "└─────────────────────┴───────────────────┴────────────┴───────────────────┘\n",
              "</pre>\n"
            ],
            "text/plain": [
              "┏━━━━━━━━━━━━━━━━━━━━━┳━━━━━━━━━━━━━━━━━━━┳━━━━━━━━━━━━┳━━━━━━━━━━━━━━━━━━━┓\n",
              "┃\u001b[1m \u001b[0m\u001b[1mLayer (type)       \u001b[0m\u001b[1m \u001b[0m┃\u001b[1m \u001b[0m\u001b[1mOutput Shape     \u001b[0m\u001b[1m \u001b[0m┃\u001b[1m \u001b[0m\u001b[1m   Param #\u001b[0m\u001b[1m \u001b[0m┃\u001b[1m \u001b[0m\u001b[1mConnected to     \u001b[0m\u001b[1m \u001b[0m┃\n",
              "┡━━━━━━━━━━━━━━━━━━━━━╇━━━━━━━━━━━━━━━━━━━╇━━━━━━━━━━━━╇━━━━━━━━━━━━━━━━━━━┩\n",
              "│ enc_inputs          │ (\u001b[38;5;45mNone\u001b[0m, \u001b[38;5;45mNone\u001b[0m)      │          \u001b[38;5;34m0\u001b[0m │ -                 │\n",
              "│ (\u001b[38;5;33mInputLayer\u001b[0m)        │                   │            │                   │\n",
              "├─────────────────────┼───────────────────┼────────────┼───────────────────┤\n",
              "│ dec_inputs          │ (\u001b[38;5;45mNone\u001b[0m, \u001b[38;5;45mNone\u001b[0m)      │          \u001b[38;5;34m0\u001b[0m │ -                 │\n",
              "│ (\u001b[38;5;33mInputLayer\u001b[0m)        │                   │            │                   │\n",
              "├─────────────────────┼───────────────────┼────────────┼───────────────────┤\n",
              "│ encoder_model       │ [(\u001b[38;5;45mNone\u001b[0m, \u001b[38;5;45mNone\u001b[0m,     │    \u001b[38;5;34m296,416\u001b[0m │ enc_inputs[\u001b[38;5;34m0\u001b[0m][\u001b[38;5;34m0\u001b[0m]  │\n",
              "│ (\u001b[38;5;33mFunctional\u001b[0m)        │ \u001b[38;5;34m256\u001b[0m), (\u001b[38;5;45mNone\u001b[0m,      │            │                   │\n",
              "│                     │ \u001b[38;5;34m256\u001b[0m), (\u001b[38;5;45mNone\u001b[0m,      │            │                   │\n",
              "│                     │ \u001b[38;5;34m256\u001b[0m)]             │            │                   │\n",
              "├─────────────────────┼───────────────────┼────────────┼───────────────────┤\n",
              "│ decoder_model       │ [(\u001b[38;5;45mNone\u001b[0m, \u001b[38;5;45mNone\u001b[0m,     │    \u001b[38;5;34m304,367\u001b[0m │ dec_inputs[\u001b[38;5;34m0\u001b[0m][\u001b[38;5;34m0\u001b[0m], │\n",
              "│ (\u001b[38;5;33mFunctional\u001b[0m)        │ \u001b[38;5;34m15\u001b[0m), (\u001b[38;5;45mNone\u001b[0m, \u001b[38;5;34m256\u001b[0m), │            │ encoder_model[\u001b[38;5;34m0\u001b[0m]… │\n",
              "│                     │ (\u001b[38;5;45mNone\u001b[0m, \u001b[38;5;34m256\u001b[0m)]      │            │ encoder_model[\u001b[38;5;34m0\u001b[0m]… │\n",
              "│                     │                   │            │ encoder_model[\u001b[38;5;34m0\u001b[0m]… │\n",
              "└─────────────────────┴───────────────────┴────────────┴───────────────────┘\n"
            ]
          },
          "metadata": {},
          "output_type": "display_data"
        },
        {
          "data": {
            "text/html": [
              "<pre style=\"white-space:pre;overflow-x:auto;line-height:normal;font-family:Menlo,'DejaVu Sans Mono',consolas,'Courier New',monospace\"><span style=\"font-weight: bold\"> Total params: </span><span style=\"color: #00af00; text-decoration-color: #00af00\">1,802,351</span> (6.88 MB)\n",
              "</pre>\n"
            ],
            "text/plain": [
              "\u001b[1m Total params: \u001b[0m\u001b[38;5;34m1,802,351\u001b[0m (6.88 MB)\n"
            ]
          },
          "metadata": {},
          "output_type": "display_data"
        },
        {
          "data": {
            "text/html": [
              "<pre style=\"white-space:pre;overflow-x:auto;line-height:normal;font-family:Menlo,'DejaVu Sans Mono',consolas,'Courier New',monospace\"><span style=\"font-weight: bold\"> Trainable params: </span><span style=\"color: #00af00; text-decoration-color: #00af00\">600,783</span> (2.29 MB)\n",
              "</pre>\n"
            ],
            "text/plain": [
              "\u001b[1m Trainable params: \u001b[0m\u001b[38;5;34m600,783\u001b[0m (2.29 MB)\n"
            ]
          },
          "metadata": {},
          "output_type": "display_data"
        },
        {
          "data": {
            "text/html": [
              "<pre style=\"white-space:pre;overflow-x:auto;line-height:normal;font-family:Menlo,'DejaVu Sans Mono',consolas,'Courier New',monospace\"><span style=\"font-weight: bold\"> Non-trainable params: </span><span style=\"color: #00af00; text-decoration-color: #00af00\">0</span> (0.00 B)\n",
              "</pre>\n"
            ],
            "text/plain": [
              "\u001b[1m Non-trainable params: \u001b[0m\u001b[38;5;34m0\u001b[0m (0.00 B)\n"
            ]
          },
          "metadata": {},
          "output_type": "display_data"
        },
        {
          "data": {
            "text/html": [
              "<pre style=\"white-space:pre;overflow-x:auto;line-height:normal;font-family:Menlo,'DejaVu Sans Mono',consolas,'Courier New',monospace\"><span style=\"font-weight: bold\"> Optimizer params: </span><span style=\"color: #00af00; text-decoration-color: #00af00\">1,201,568</span> (4.58 MB)\n",
              "</pre>\n"
            ],
            "text/plain": [
              "\u001b[1m Optimizer params: \u001b[0m\u001b[38;5;34m1,201,568\u001b[0m (4.58 MB)\n"
            ]
          },
          "metadata": {},
          "output_type": "display_data"
        }
      ],
      "source": [
        "seq2seq.summary()"
      ]
    },
    {
      "cell_type": "code",
      "execution_count": 18,
      "metadata": {},
      "outputs": [
        {
          "data": {
            "image/png": "[encoded data removed]",
            "text/plain": [
              "<Figure size 1400x500 with 2 Axes>"
            ]
          },
          "metadata": {},
          "output_type": "display_data"
        }
      ],
      "source": [
        "# Exstract history data\n",
        "acc        = history.history['sparse_categorical_accuracy']\n",
        "val_acc    = history.history['val_sparse_categorical_accuracy']\n",
        "loss       = history.history['loss']\n",
        "val_loss   = history.history['val_loss']\n",
        "prefix_acc = prefix_cb.history\n",
        "acc_val_b, loss_val_b = np.matrix(val_b.history)[:, 0], np.matrix(val_b.history)[:, 1]\n",
        "epochs     = range(1, len(acc) + 1)\n",
        "\n",
        "# Create images\n",
        "fig1, axs = plt.subplots(1, 2, figsize=(14, 5))\n",
        "\n",
        "# Accuracy\n",
        "axs[0].plot(epochs, acc, label='Train')\n",
        "axs[0].plot(epochs, val_acc, label='Validation')\n",
        "axs[0].plot(epochs, acc_val_b, label='Validation_b')\n",
        "axs[0].plot(epochs, prefix_acc, label='Prefix_acc')\n",
        "axs[0].set_title('Accuracy: Training vs Validation vs Validation_b vs Prefix Accuracy')\n",
        "axs[0].set_xlabel('Epoch')\n",
        "axs[0].set_ylabel('Accuracy')\n",
        "axs[0].legend(loc='lower right')\n",
        "axs[0].grid(True)\n",
        "\n",
        "# Loss\n",
        "axs[1].plot(epochs, loss, label='Train')\n",
        "axs[1].plot(epochs, val_loss, label='Validation')\n",
        "axs[1].plot(epochs, loss_val_b, label='Validation_b')\n",
        "axs[1].set_title('Loss: Training vs Validation vs Validation_b')\n",
        "axs[1].set_xlabel('Epoch')\n",
        "axs[1].set_ylabel('Loss')\n",
        "axs[1].legend(loc='upper right')\n",
        "axs[1].grid(True)\n",
        "\n",
        "plt.tight_layout()\n",
        "plt.show()"
      ]
    },
    {
      "cell_type": "markdown",
      "metadata": {},
      "source": [
        "As expected, the **Validation** accuracy is consistently higher than the **Train** accuracy—this is due to repeated samples in the validation set.\n",
        "The **Prefix_acc** also reflects what we anticipated, given the metrics chosen for training.\n",
        "\n",
        "More interestingly, after just one epoch, **Validation_b** (compose of unseen and more complex data) outperforms the training set as well. This behavior may be explained by the model being “overqualified” for the task—quickly learning the necessary rules.\n"
      ]
    },
    {
      "cell_type": "code",
      "execution_count": 19,
      "metadata": {},
      "outputs": [
        {
          "data": {
            "image/png": "[encoded data removed]",
            "text/plain": [
              "<Figure size 1400x500 with 2 Axes>"
            ]
          },
          "metadata": {},
          "output_type": "display_data"
        }
      ],
      "source": [
        "batches = range(1, len(batch_cb.batch_losses) + 1)\n",
        "fig2, axs = plt.subplots(1, 2, figsize=(14, 5))\n",
        "\n",
        "# Loss for batch\n",
        "axs[0].plot(batches, batch_cb.batch_losses)\n",
        "axs[0].set_title('Training Loss per Batch')\n",
        "axs[0].set_xlabel('Batch')\n",
        "axs[0].set_ylabel('Loss')\n",
        "axs[0].grid(True)\n",
        "\n",
        "# Accuracy for batch\n",
        "axs[1].plot(batches, batch_cb.batch_acc, color='red')\n",
        "axs[1].set_title('Training Accuracy per Batch')\n",
        "axs[1].set_xlabel('Batch')\n",
        "axs[1].set_ylabel('Sparse Categorical Accuracy')\n",
        "axs[1].grid(True)\n",
        "\n",
        "plt.tight_layout()\n",
        "plt.show()\n"
      ]
    },
    {
      "cell_type": "markdown",
      "metadata": {},
      "source": [
        "## Evaluation"
      ]
    },
    {
      "cell_type": "code",
      "execution_count": 20,
      "metadata": {},
      "outputs": [
        {
          "data": {
            "text/html": [
              "<pre style=\"white-space:pre;overflow-x:auto;line-height:normal;font-family:Menlo,'DejaVu Sans Mono',consolas,'Courier New',monospace\"><span style=\"font-weight: bold\">Model: \"seq2seq_model\"</span>\n",
              "</pre>\n"
            ],
            "text/plain": [
              "\u001b[1mModel: \"seq2seq_model\"\u001b[0m\n"
            ]
          },
          "metadata": {},
          "output_type": "display_data"
        },
        {
          "data": {
            "text/html": [
              "<pre style=\"white-space:pre;overflow-x:auto;line-height:normal;font-family:Menlo,'DejaVu Sans Mono',consolas,'Courier New',monospace\">┏━━━━━━━━━━━━━━━━━━━━━┳━━━━━━━━━━━━━━━━━━━┳━━━━━━━━━━━━┳━━━━━━━━━━━━━━━━━━━┓\n",
              "┃<span style=\"font-weight: bold\"> Layer (type)        </span>┃<span style=\"font-weight: bold\"> Output Shape      </span>┃<span style=\"font-weight: bold\">    Param # </span>┃<span style=\"font-weight: bold\"> Connected to      </span>┃\n",
              "┡━━━━━━━━━━━━━━━━━━━━━╇━━━━━━━━━━━━━━━━━━━╇━━━━━━━━━━━━╇━━━━━━━━━━━━━━━━━━━┩\n",
              "│ enc_inputs          │ (<span style=\"color: #00d7ff; text-decoration-color: #00d7ff\">None</span>, <span style=\"color: #00d7ff; text-decoration-color: #00d7ff\">None</span>)      │          <span style=\"color: #00af00; text-decoration-color: #00af00\">0</span> │ -                 │\n",
              "│ (<span style=\"color: #0087ff; text-decoration-color: #0087ff\">InputLayer</span>)        │                   │            │                   │\n",
              "├─────────────────────┼───────────────────┼────────────┼───────────────────┤\n",
              "│ dec_inputs          │ (<span style=\"color: #00d7ff; text-decoration-color: #00d7ff\">None</span>, <span style=\"color: #00d7ff; text-decoration-color: #00d7ff\">None</span>)      │          <span style=\"color: #00af00; text-decoration-color: #00af00\">0</span> │ -                 │\n",
              "│ (<span style=\"color: #0087ff; text-decoration-color: #0087ff\">InputLayer</span>)        │                   │            │                   │\n",
              "├─────────────────────┼───────────────────┼────────────┼───────────────────┤\n",
              "│ encoder_model       │ [(<span style=\"color: #00d7ff; text-decoration-color: #00d7ff\">None</span>, <span style=\"color: #00d7ff; text-decoration-color: #00d7ff\">None</span>,     │    <span style=\"color: #00af00; text-decoration-color: #00af00\">296,416</span> │ enc_inputs[<span style=\"color: #00af00; text-decoration-color: #00af00\">0</span>][<span style=\"color: #00af00; text-decoration-color: #00af00\">0</span>]  │\n",
              "│ (<span style=\"color: #0087ff; text-decoration-color: #0087ff\">Functional</span>)        │ <span style=\"color: #00af00; text-decoration-color: #00af00\">256</span>), (<span style=\"color: #00d7ff; text-decoration-color: #00d7ff\">None</span>,      │            │                   │\n",
              "│                     │ <span style=\"color: #00af00; text-decoration-color: #00af00\">256</span>), (<span style=\"color: #00d7ff; text-decoration-color: #00d7ff\">None</span>,      │            │                   │\n",
              "│                     │ <span style=\"color: #00af00; text-decoration-color: #00af00\">256</span>)]             │            │                   │\n",
              "├─────────────────────┼───────────────────┼────────────┼───────────────────┤\n",
              "│ decoder_model       │ [(<span style=\"color: #00d7ff; text-decoration-color: #00d7ff\">None</span>, <span style=\"color: #00d7ff; text-decoration-color: #00d7ff\">None</span>,     │    <span style=\"color: #00af00; text-decoration-color: #00af00\">304,367</span> │ dec_inputs[<span style=\"color: #00af00; text-decoration-color: #00af00\">0</span>][<span style=\"color: #00af00; text-decoration-color: #00af00\">0</span>], │\n",
              "│ (<span style=\"color: #0087ff; text-decoration-color: #0087ff\">Functional</span>)        │ <span style=\"color: #00af00; text-decoration-color: #00af00\">15</span>), (<span style=\"color: #00d7ff; text-decoration-color: #00d7ff\">None</span>, <span style=\"color: #00af00; text-decoration-color: #00af00\">256</span>), │            │ encoder_model[<span style=\"color: #00af00; text-decoration-color: #00af00\">0</span>]… │\n",
              "│                     │ (<span style=\"color: #00d7ff; text-decoration-color: #00d7ff\">None</span>, <span style=\"color: #00af00; text-decoration-color: #00af00\">256</span>)]      │            │ encoder_model[<span style=\"color: #00af00; text-decoration-color: #00af00\">0</span>]… │\n",
              "│                     │                   │            │ encoder_model[<span style=\"color: #00af00; text-decoration-color: #00af00\">0</span>]… │\n",
              "└─────────────────────┴───────────────────┴────────────┴───────────────────┘\n",
              "</pre>\n"
            ],
            "text/plain": [
              "┏━━━━━━━━━━━━━━━━━━━━━┳━━━━━━━━━━━━━━━━━━━┳━━━━━━━━━━━━┳━━━━━━━━━━━━━━━━━━━┓\n",
              "┃\u001b[1m \u001b[0m\u001b[1mLayer (type)       \u001b[0m\u001b[1m \u001b[0m┃\u001b[1m \u001b[0m\u001b[1mOutput Shape     \u001b[0m\u001b[1m \u001b[0m┃\u001b[1m \u001b[0m\u001b[1m   Param #\u001b[0m\u001b[1m \u001b[0m┃\u001b[1m \u001b[0m\u001b[1mConnected to     \u001b[0m\u001b[1m \u001b[0m┃\n",
              "┡━━━━━━━━━━━━━━━━━━━━━╇━━━━━━━━━━━━━━━━━━━╇━━━━━━━━━━━━╇━━━━━━━━━━━━━━━━━━━┩\n",
              "│ enc_inputs          │ (\u001b[38;5;45mNone\u001b[0m, \u001b[38;5;45mNone\u001b[0m)      │          \u001b[38;5;34m0\u001b[0m │ -                 │\n",
              "│ (\u001b[38;5;33mInputLayer\u001b[0m)        │                   │            │                   │\n",
              "├─────────────────────┼───────────────────┼────────────┼───────────────────┤\n",
              "│ dec_inputs          │ (\u001b[38;5;45mNone\u001b[0m, \u001b[38;5;45mNone\u001b[0m)      │          \u001b[38;5;34m0\u001b[0m │ -                 │\n",
              "│ (\u001b[38;5;33mInputLayer\u001b[0m)        │                   │            │                   │\n",
              "├─────────────────────┼───────────────────┼────────────┼───────────────────┤\n",
              "│ encoder_model       │ [(\u001b[38;5;45mNone\u001b[0m, \u001b[38;5;45mNone\u001b[0m,     │    \u001b[38;5;34m296,416\u001b[0m │ enc_inputs[\u001b[38;5;34m0\u001b[0m][\u001b[38;5;34m0\u001b[0m]  │\n",
              "│ (\u001b[38;5;33mFunctional\u001b[0m)        │ \u001b[38;5;34m256\u001b[0m), (\u001b[38;5;45mNone\u001b[0m,      │            │                   │\n",
              "│                     │ \u001b[38;5;34m256\u001b[0m), (\u001b[38;5;45mNone\u001b[0m,      │            │                   │\n",
              "│                     │ \u001b[38;5;34m256\u001b[0m)]             │            │                   │\n",
              "├─────────────────────┼───────────────────┼────────────┼───────────────────┤\n",
              "│ decoder_model       │ [(\u001b[38;5;45mNone\u001b[0m, \u001b[38;5;45mNone\u001b[0m,     │    \u001b[38;5;34m304,367\u001b[0m │ dec_inputs[\u001b[38;5;34m0\u001b[0m][\u001b[38;5;34m0\u001b[0m], │\n",
              "│ (\u001b[38;5;33mFunctional\u001b[0m)        │ \u001b[38;5;34m15\u001b[0m), (\u001b[38;5;45mNone\u001b[0m, \u001b[38;5;34m256\u001b[0m), │            │ encoder_model[\u001b[38;5;34m0\u001b[0m]… │\n",
              "│                     │ (\u001b[38;5;45mNone\u001b[0m, \u001b[38;5;34m256\u001b[0m)]      │            │ encoder_model[\u001b[38;5;34m0\u001b[0m]… │\n",
              "│                     │                   │            │ encoder_model[\u001b[38;5;34m0\u001b[0m]… │\n",
              "└─────────────────────┴───────────────────┴────────────┴───────────────────┘\n"
            ]
          },
          "metadata": {},
          "output_type": "display_data"
        },
        {
          "data": {
            "text/html": [
              "<pre style=\"white-space:pre;overflow-x:auto;line-height:normal;font-family:Menlo,'DejaVu Sans Mono',consolas,'Courier New',monospace\"><span style=\"font-weight: bold\"> Total params: </span><span style=\"color: #00af00; text-decoration-color: #00af00\">1,802,351</span> (6.88 MB)\n",
              "</pre>\n"
            ],
            "text/plain": [
              "\u001b[1m Total params: \u001b[0m\u001b[38;5;34m1,802,351\u001b[0m (6.88 MB)\n"
            ]
          },
          "metadata": {},
          "output_type": "display_data"
        },
        {
          "data": {
            "text/html": [
              "<pre style=\"white-space:pre;overflow-x:auto;line-height:normal;font-family:Menlo,'DejaVu Sans Mono',consolas,'Courier New',monospace\"><span style=\"font-weight: bold\"> Trainable params: </span><span style=\"color: #00af00; text-decoration-color: #00af00\">600,783</span> (2.29 MB)\n",
              "</pre>\n"
            ],
            "text/plain": [
              "\u001b[1m Trainable params: \u001b[0m\u001b[38;5;34m600,783\u001b[0m (2.29 MB)\n"
            ]
          },
          "metadata": {},
          "output_type": "display_data"
        },
        {
          "data": {
            "text/html": [
              "<pre style=\"white-space:pre;overflow-x:auto;line-height:normal;font-family:Menlo,'DejaVu Sans Mono',consolas,'Courier New',monospace\"><span style=\"font-weight: bold\"> Non-trainable params: </span><span style=\"color: #00af00; text-decoration-color: #00af00\">0</span> (0.00 B)\n",
              "</pre>\n"
            ],
            "text/plain": [
              "\u001b[1m Non-trainable params: \u001b[0m\u001b[38;5;34m0\u001b[0m (0.00 B)\n"
            ]
          },
          "metadata": {},
          "output_type": "display_data"
        },
        {
          "data": {
            "text/html": [
              "<pre style=\"white-space:pre;overflow-x:auto;line-height:normal;font-family:Menlo,'DejaVu Sans Mono',consolas,'Courier New',monospace\"><span style=\"font-weight: bold\"> Optimizer params: </span><span style=\"color: #00af00; text-decoration-color: #00af00\">1,201,568</span> (4.58 MB)\n",
              "</pre>\n"
            ],
            "text/plain": [
              "\u001b[1m Optimizer params: \u001b[0m\u001b[38;5;34m1,201,568\u001b[0m (4.58 MB)\n"
            ]
          },
          "metadata": {},
          "output_type": "display_data"
        }
      ],
      "source": [
        "PATH = \"/home/pp26/ml/progettoDL/report/model/model_finale_1.8M/seq2seq_attention_model_v1.check_16.weights.h5\"\n",
        "seq2seq.load_weights(PATH)\n",
        "seq2seq.summary()"
      ]
    },
    {
      "cell_type": "code",
      "execution_count": 21,
      "metadata": {},
      "outputs": [
        {
          "name": "stdout",
          "output_type": "stream",
          "text": [
            "================================================\n",
            "round=0\n",
            "------------------------------------------------\n",
            "mean scores=1.0000 std=0.0000\n",
            "================================================\n",
            "round=1\n",
            "------------------------------------------------\n",
            "mean scores=1.0000 std=0.0000\n",
            "================================================\n",
            "round=2\n",
            "------------------------------------------------\n",
            "mean scores=1.0000 std=0.0000\n",
            "================================================\n",
            "round=3\n",
            "------------------------------------------------\n",
            "mean scores=1.0000 std=0.0000\n",
            "================================================\n",
            "round=4\n",
            "------------------------------------------------\n",
            "mean scores=1.0000 std=0.0000\n",
            "================================================\n",
            "round=5\n",
            "------------------------------------------------\n",
            "mean scores=1.0000 std=0.0000\n",
            "================================================\n",
            "round=6\n",
            "------------------------------------------------\n",
            "mean scores=1.0000 std=0.0000\n",
            "================================================\n",
            "round=7\n",
            "------------------------------------------------\n",
            "mean scores=1.0000 std=0.0000\n",
            "================================================\n",
            "round=8\n",
            "------------------------------------------------\n",
            "mean scores=1.0000 std=0.0000\n",
            "================================================\n",
            "round=9\n",
            "------------------------------------------------\n",
            "mean scores=1.0000 std=0.0000\n",
            "================================================\n",
            "FINAL SCORE = 1.0000 STD = 0.0000\n"
          ]
        }
      ],
      "source": [
        "mean_pref_acc, std_pref_acc = test()"
      ]
    },
    {
      "cell_type": "code",
      "execution_count": 22,
      "metadata": {},
      "outputs": [
        {
          "name": "stdout",
          "output_type": "stream",
          "text": [
            "Testing autoregressive decoding with 20 samples 5 times...\n",
            "================================================\n",
            "FINAL SCORE = 1.0000 STD = 0.0000\n",
            "Testing autoregressive decoding with 20 samples 5 times...\n",
            "================================================\n",
            "FINAL SCORE = 1.0000 STD = 0.0000\n",
            "Testing autoregressive decoding with 20 samples 5 times...\n",
            "================================================\n",
            "FINAL SCORE = 1.0000 STD = 0.0000\n",
            "Testing autoregressive decoding with 20 samples 5 times...\n",
            "================================================\n",
            "FINAL SCORE = 1.0000 STD = 0.0000\n",
            "Testing autoregressive decoding with 20 samples 5 times...\n",
            "================================================\n",
            "FINAL SCORE = 1.0000 STD = 0.0000\n"
          ]
        }
      ],
      "source": [
        "for _ in range(5):\n",
        "    print(\"Testing autoregressive decoding with 20 samples 5 times...\")\n",
        "    mean_pref_acc, std_pref_acc = test( verbose_round=False)"
      ]
    },
    {
      "cell_type": "code",
      "execution_count": 23,
      "metadata": {},
      "outputs": [
        {
          "name": "stdout",
          "output_type": "stream",
          "text": [
            "================================================\n",
            "round=0\n",
            "------------------------------------------------\n",
            "mean scores=1.0000 std=0.0000\n",
            "================================================\n",
            "round=1\n",
            "------------------------------------------------\n",
            "mean scores=1.0000 std=0.0000\n",
            "================================================\n",
            "round=2\n",
            "------------------------------------------------\n",
            "mean scores=1.0000 std=0.0000\n",
            "================================================\n",
            "round=3\n",
            "------------------------------------------------\n",
            "mean scores=1.0000 std=0.0000\n",
            "================================================\n",
            "round=4\n",
            "------------------------------------------------\n",
            "mean scores=1.0000 std=0.0000\n",
            "================================================\n",
            "round=5\n",
            "------------------------------------------------\n",
            "mean scores=1.0000 std=0.0000\n",
            "================================================\n",
            "round=6\n",
            "------------------------------------------------\n",
            "mean scores=1.0000 std=0.0000\n",
            "================================================\n",
            "round=7\n",
            "------------------------------------------------\n",
            "mean scores=1.0000 std=0.0000\n",
            "================================================\n",
            "round=8\n",
            "------------------------------------------------\n",
            "mean scores=1.0000 std=0.0000\n",
            "================================================\n",
            "round=9\n",
            "------------------------------------------------\n",
            "mean scores=1.0000 std=0.0000\n",
            "================================================\n",
            "FINAL SCORE = 1.0000 STD = 0.0000\n",
            "\n",
            "~~~~~~~~~~Testing with max_depth=4~~~~~~~~~~~~\n",
            "================================================\n",
            "FINAL SCORE = 0.4172 STD = 0.0659\n",
            "\n",
            "~~~~~~~~~~Testing with max_depth=5~~~~~~~~~~~~\n",
            "================================================\n",
            "FINAL SCORE = 0.2502 STD = 0.0426\n",
            "\n",
            "~~~~~~~~~~Testing with max_depth=6~~~~~~~~~~~~\n",
            "================================================\n",
            "FINAL SCORE = 0.1459 STD = 0.0274\n"
          ]
        }
      ],
      "source": [
        "mean_pref_acc, std_pref_acc = test()\n",
        "for depth in range(4,7):\n",
        "    print()\n",
        "    print(f\"~~~~~~~~~~Testing with max_depth={depth}~~~~~~~~~~~~\")\n",
        "    mean_pref_acc, std_pref_acc = test(max_depth=depth, verbose_round=False)"
      ]
    },
    {
      "cell_type": "markdown",
      "metadata": {},
      "source": [
        "## Conclusion"
      ]
    },
    {
      "cell_type": "code",
      "execution_count": 24,
      "metadata": {},
      "outputs": [],
      "source": [
        "# hparams = {'embed_dim':EMBED_DIM, 'enc_units':ENC_UNITS, 'dec_units':DEC_UNITS, 'batch_size':BATCH_SIZE}\n",
        "# outputs = {'training': report_cb.final_report, 'test': test_out.stdout, 'test_Depth': test_bonus_out.stdout}\n",
        "# figures = {'epoch': fig1, 'batch': fig2}\n",
        "# generate_report(hparams, outputs, figures, model = seq2seq, title = \"model_v1.check_16\")"
      ]
    },
    {
      "cell_type": "markdown",
      "metadata": {},
      "source": [
        "As shown in the previous outputs, the model (with **Total params: 1,802,351** considering adam params) performs optimally for **DEPTH ≤ 3**  \n",
        "It achieves also around **0.4** accuracy on samples with **DEPTH = 4**.\n",
        "\n"
      ]
    },
    {
      "cell_type": "markdown",
      "metadata": {},
      "source": [
        "---\n"
      ]
    },
    {
      "cell_type": "markdown",
      "metadata": {},
      "source": [
        "At this point I could conclude here but out of curiosity I ran two more tests.\n",
        "1. the first aimed at reducing to the possible minimum the number of parameters needed to have the same performance.  \n",
        "\n",
        "2. the second aimed at creating a model that could perform even at depths greater than 3 despite being trained with max depth 3"
      ]
    },
    {
      "cell_type": "markdown",
      "metadata": {},
      "source": [
        "## 1. Parameters reduction"
      ]
    },
    {
      "cell_type": "markdown",
      "metadata": {},
      "source": [
        "I successfully menaged to pass from 1.8 M parameters to roughly 42 K parameters (always considering adam params).  "
      ]
    },
    {
      "cell_type": "code",
      "execution_count": 25,
      "metadata": {},
      "outputs": [
        {
          "data": {
            "text/plain": [
              "'\\n1.8M            → 500k                 → 132k                  → 42k\\nsame as before  EMBED_DIM  = 32        EMBED_DIM  = 16         EMBED_DIM  = 16\\n                ENC_UNITS = 128        ENC_UNITS = 64          ENC_UNITS = 32\\n                DEC_UNITS = 128        DEC_UNITS = 64          DEC_UNITS = 32\\n                max_epoc = 30          max_epoc = 30           max_epoc = 40\\n                epochs ≤ 010           epochs ≤ 020            epochs ≤ 033\\n                stop = val_prefix_acc  stop = val_prefix_acc   stop = val_prefix_acc\\n                stop = val_loss\\n'"
            ]
          },
          "execution_count": 25,
          "metadata": {},
          "output_type": "execute_result"
        }
      ],
      "source": [
        "\"\"\"\n",
        "1.8M            → 500k                 → 132k                  → 42k\n",
        "same as before  EMBED_DIM  = 32        EMBED_DIM  = 16         EMBED_DIM  = 16\n",
        "                ENC_UNITS = 128        ENC_UNITS = 64          ENC_UNITS = 32\n",
        "                DEC_UNITS = 128        DEC_UNITS = 64          DEC_UNITS = 32\n",
        "                max_epoc = 30          max_epoc = 30           max_epoc = 40\n",
        "                epochs ≤ 010           epochs ≤ 020            epochs ≤ 033\n",
        "                stop = val_prefix_acc  stop = val_prefix_acc   stop = val_prefix_acc\n",
        "                stop = val_loss\n",
        "\"\"\"             "
      ]
    },
    {
      "cell_type": "markdown",
      "metadata": {},
      "source": [
        "For the 132k version and the 42K I also changed this part of code"
      ]
    },
    {
      "cell_type": "code",
      "execution_count": 26,
      "metadata": {},
      "outputs": [],
      "source": [
        "es = NamedEarlyStopping(\n",
        "    name=\"val_b_loss\",\n",
        "    monitor=\"val_b_loss\", # monitor val_b and not val_loss\n",
        "    mode=\"min\",\n",
        "    patience=10, # bigger patience\n",
        "    min_delta=0.001, \n",
        "    restore_best_weights=True\n",
        ")\n",
        "\n",
        "es_prefix = NamedEarlyStopping(\n",
        "    name=\"val_prefix_acc\",\n",
        "    monitor=\"val_prefix_acc\",\n",
        "    mode=\"max\", # There is no more min_delta\n",
        "    patience=10, # bigger patience, also for plotting\n",
        "    restore_best_weights=True\n",
        ")\n"
      ]
    },
    {
      "cell_type": "code",
      "execution_count": 27,
      "metadata": {},
      "outputs": [
        {
          "data": {
            "image/png": "[encoded data removed]",
            "text/plain": [
              "<IPython.core.display.Image object>"
            ]
          },
          "metadata": {},
          "output_type": "display_data"
        }
      ],
      "source": [
        "from IPython.display import Image, display\n",
        "display(Image(filename=\"/home/pp26/ml/progettoDL/report/img/epoch_model_v4.1.png\"))"
      ]
    },
    {
      "cell_type": "markdown",
      "metadata": {},
      "source": [
        "Choosed Epoch = 023  \n",
        "Loss: 0.0003 | Accuracy: 1.0000 |  \n",
        "Val Loss: 0.0003 | Val Accuracy: 1.0000 |  \n",
        "Val B Loss: 0.0006 | Val B Accuracy: 1.0000 |  \n",
        "Prefix Acc: 1.0000\n",
        "\n",
        "As we can notice from the graphs, we have what we espect during training: \n",
        "$$\n",
        "prefix_{acc} ≤ val{_b} ≤ train ≤ val\n",
        "$$"
      ]
    },
    {
      "cell_type": "code",
      "execution_count": 28,
      "metadata": {},
      "outputs": [],
      "source": [
        "EMBED_DIM  = 16\n",
        "ENC_UNITS = 32\n",
        "DEC_UNITS = 32\n",
        "\n",
        "encoder = create_encoder_model(VOCAB_SIZE, EMBED_DIM, ENC_UNITS)\n",
        "decoder = create_decoder_model(VOCAB_SIZE, EMBED_DIM, DEC_UNITS)\n",
        "seq2seq = create_seq2seq_model(encoder, decoder)\n"
      ]
    },
    {
      "cell_type": "code",
      "execution_count": 29,
      "metadata": {},
      "outputs": [
        {
          "data": {
            "text/html": [
              "<pre style=\"white-space:pre;overflow-x:auto;line-height:normal;font-family:Menlo,'DejaVu Sans Mono',consolas,'Courier New',monospace\"><span style=\"font-weight: bold\">Model: \"seq2seq_model\"</span>\n",
              "</pre>\n"
            ],
            "text/plain": [
              "\u001b[1mModel: \"seq2seq_model\"\u001b[0m\n"
            ]
          },
          "metadata": {},
          "output_type": "display_data"
        },
        {
          "data": {
            "text/html": [
              "<pre style=\"white-space:pre;overflow-x:auto;line-height:normal;font-family:Menlo,'DejaVu Sans Mono',consolas,'Courier New',monospace\">┏━━━━━━━━━━━━━━━━━━━━━┳━━━━━━━━━━━━━━━━━━━┳━━━━━━━━━━━━┳━━━━━━━━━━━━━━━━━━━┓\n",
              "┃<span style=\"font-weight: bold\"> Layer (type)        </span>┃<span style=\"font-weight: bold\"> Output Shape      </span>┃<span style=\"font-weight: bold\">    Param # </span>┃<span style=\"font-weight: bold\"> Connected to      </span>┃\n",
              "┡━━━━━━━━━━━━━━━━━━━━━╇━━━━━━━━━━━━━━━━━━━╇━━━━━━━━━━━━╇━━━━━━━━━━━━━━━━━━━┩\n",
              "│ enc_inputs          │ (<span style=\"color: #00d7ff; text-decoration-color: #00d7ff\">None</span>, <span style=\"color: #00d7ff; text-decoration-color: #00d7ff\">None</span>)      │          <span style=\"color: #00af00; text-decoration-color: #00af00\">0</span> │ -                 │\n",
              "│ (<span style=\"color: #0087ff; text-decoration-color: #0087ff\">InputLayer</span>)        │                   │            │                   │\n",
              "├─────────────────────┼───────────────────┼────────────┼───────────────────┤\n",
              "│ dec_inputs          │ (<span style=\"color: #00d7ff; text-decoration-color: #00d7ff\">None</span>, <span style=\"color: #00d7ff; text-decoration-color: #00d7ff\">None</span>)      │          <span style=\"color: #00af00; text-decoration-color: #00af00\">0</span> │ -                 │\n",
              "│ (<span style=\"color: #0087ff; text-decoration-color: #0087ff\">InputLayer</span>)        │                   │            │                   │\n",
              "├─────────────────────┼───────────────────┼────────────┼───────────────────┤\n",
              "│ encoder_model       │ [(<span style=\"color: #00d7ff; text-decoration-color: #00d7ff\">None</span>, <span style=\"color: #00d7ff; text-decoration-color: #00d7ff\">None</span>,     │      <span style=\"color: #00af00; text-decoration-color: #00af00\">6,512</span> │ enc_inputs[<span style=\"color: #00af00; text-decoration-color: #00af00\">0</span>][<span style=\"color: #00af00; text-decoration-color: #00af00\">0</span>]  │\n",
              "│ (<span style=\"color: #0087ff; text-decoration-color: #0087ff\">Functional</span>)        │ <span style=\"color: #00af00; text-decoration-color: #00af00\">32</span>), (<span style=\"color: #00d7ff; text-decoration-color: #00d7ff\">None</span>, <span style=\"color: #00af00; text-decoration-color: #00af00\">32</span>),  │            │                   │\n",
              "│                     │ (<span style=\"color: #00d7ff; text-decoration-color: #00d7ff\">None</span>, <span style=\"color: #00af00; text-decoration-color: #00af00\">32</span>)]       │            │                   │\n",
              "├─────────────────────┼───────────────────┼────────────┼───────────────────┤\n",
              "│ decoder_model       │ [(<span style=\"color: #00d7ff; text-decoration-color: #00d7ff\">None</span>, <span style=\"color: #00d7ff; text-decoration-color: #00d7ff\">None</span>,     │      <span style=\"color: #00af00; text-decoration-color: #00af00\">7,519</span> │ dec_inputs[<span style=\"color: #00af00; text-decoration-color: #00af00\">0</span>][<span style=\"color: #00af00; text-decoration-color: #00af00\">0</span>], │\n",
              "│ (<span style=\"color: #0087ff; text-decoration-color: #0087ff\">Functional</span>)        │ <span style=\"color: #00af00; text-decoration-color: #00af00\">15</span>), (<span style=\"color: #00d7ff; text-decoration-color: #00d7ff\">None</span>, <span style=\"color: #00af00; text-decoration-color: #00af00\">32</span>),  │            │ encoder_model[<span style=\"color: #00af00; text-decoration-color: #00af00\">0</span>]… │\n",
              "│                     │ (<span style=\"color: #00d7ff; text-decoration-color: #00d7ff\">None</span>, <span style=\"color: #00af00; text-decoration-color: #00af00\">32</span>)]       │            │ encoder_model[<span style=\"color: #00af00; text-decoration-color: #00af00\">0</span>]… │\n",
              "│                     │                   │            │ encoder_model[<span style=\"color: #00af00; text-decoration-color: #00af00\">0</span>]… │\n",
              "└─────────────────────┴───────────────────┴────────────┴───────────────────┘\n",
              "</pre>\n"
            ],
            "text/plain": [
              "┏━━━━━━━━━━━━━━━━━━━━━┳━━━━━━━━━━━━━━━━━━━┳━━━━━━━━━━━━┳━━━━━━━━━━━━━━━━━━━┓\n",
              "┃\u001b[1m \u001b[0m\u001b[1mLayer (type)       \u001b[0m\u001b[1m \u001b[0m┃\u001b[1m \u001b[0m\u001b[1mOutput Shape     \u001b[0m\u001b[1m \u001b[0m┃\u001b[1m \u001b[0m\u001b[1m   Param #\u001b[0m\u001b[1m \u001b[0m┃\u001b[1m \u001b[0m\u001b[1mConnected to     \u001b[0m\u001b[1m \u001b[0m┃\n",
              "┡━━━━━━━━━━━━━━━━━━━━━╇━━━━━━━━━━━━━━━━━━━╇━━━━━━━━━━━━╇━━━━━━━━━━━━━━━━━━━┩\n",
              "│ enc_inputs          │ (\u001b[38;5;45mNone\u001b[0m, \u001b[38;5;45mNone\u001b[0m)      │          \u001b[38;5;34m0\u001b[0m │ -                 │\n",
              "│ (\u001b[38;5;33mInputLayer\u001b[0m)        │                   │            │                   │\n",
              "├─────────────────────┼───────────────────┼────────────┼───────────────────┤\n",
              "│ dec_inputs          │ (\u001b[38;5;45mNone\u001b[0m, \u001b[38;5;45mNone\u001b[0m)      │          \u001b[38;5;34m0\u001b[0m │ -                 │\n",
              "│ (\u001b[38;5;33mInputLayer\u001b[0m)        │                   │            │                   │\n",
              "├─────────────────────┼───────────────────┼────────────┼───────────────────┤\n",
              "│ encoder_model       │ [(\u001b[38;5;45mNone\u001b[0m, \u001b[38;5;45mNone\u001b[0m,     │      \u001b[38;5;34m6,512\u001b[0m │ enc_inputs[\u001b[38;5;34m0\u001b[0m][\u001b[38;5;34m0\u001b[0m]  │\n",
              "│ (\u001b[38;5;33mFunctional\u001b[0m)        │ \u001b[38;5;34m32\u001b[0m), (\u001b[38;5;45mNone\u001b[0m, \u001b[38;5;34m32\u001b[0m),  │            │                   │\n",
              "│                     │ (\u001b[38;5;45mNone\u001b[0m, \u001b[38;5;34m32\u001b[0m)]       │            │                   │\n",
              "├─────────────────────┼───────────────────┼────────────┼───────────────────┤\n",
              "│ decoder_model       │ [(\u001b[38;5;45mNone\u001b[0m, \u001b[38;5;45mNone\u001b[0m,     │      \u001b[38;5;34m7,519\u001b[0m │ dec_inputs[\u001b[38;5;34m0\u001b[0m][\u001b[38;5;34m0\u001b[0m], │\n",
              "│ (\u001b[38;5;33mFunctional\u001b[0m)        │ \u001b[38;5;34m15\u001b[0m), (\u001b[38;5;45mNone\u001b[0m, \u001b[38;5;34m32\u001b[0m),  │            │ encoder_model[\u001b[38;5;34m0\u001b[0m]… │\n",
              "│                     │ (\u001b[38;5;45mNone\u001b[0m, \u001b[38;5;34m32\u001b[0m)]       │            │ encoder_model[\u001b[38;5;34m0\u001b[0m]… │\n",
              "│                     │                   │            │ encoder_model[\u001b[38;5;34m0\u001b[0m]… │\n",
              "└─────────────────────┴───────────────────┴────────────┴───────────────────┘\n"
            ]
          },
          "metadata": {},
          "output_type": "display_data"
        },
        {
          "data": {
            "text/html": [
              "<pre style=\"white-space:pre;overflow-x:auto;line-height:normal;font-family:Menlo,'DejaVu Sans Mono',consolas,'Courier New',monospace\"><span style=\"font-weight: bold\"> Total params: </span><span style=\"color: #00af00; text-decoration-color: #00af00\">14,031</span> (54.81 KB)\n",
              "</pre>\n"
            ],
            "text/plain": [
              "\u001b[1m Total params: \u001b[0m\u001b[38;5;34m14,031\u001b[0m (54.81 KB)\n"
            ]
          },
          "metadata": {},
          "output_type": "display_data"
        },
        {
          "data": {
            "text/html": [
              "<pre style=\"white-space:pre;overflow-x:auto;line-height:normal;font-family:Menlo,'DejaVu Sans Mono',consolas,'Courier New',monospace\"><span style=\"font-weight: bold\"> Trainable params: </span><span style=\"color: #00af00; text-decoration-color: #00af00\">14,031</span> (54.81 KB)\n",
              "</pre>\n"
            ],
            "text/plain": [
              "\u001b[1m Trainable params: \u001b[0m\u001b[38;5;34m14,031\u001b[0m (54.81 KB)\n"
            ]
          },
          "metadata": {},
          "output_type": "display_data"
        },
        {
          "data": {
            "text/html": [
              "<pre style=\"white-space:pre;overflow-x:auto;line-height:normal;font-family:Menlo,'DejaVu Sans Mono',consolas,'Courier New',monospace\"><span style=\"font-weight: bold\"> Non-trainable params: </span><span style=\"color: #00af00; text-decoration-color: #00af00\">0</span> (0.00 B)\n",
              "</pre>\n"
            ],
            "text/plain": [
              "\u001b[1m Non-trainable params: \u001b[0m\u001b[38;5;34m0\u001b[0m (0.00 B)\n"
            ]
          },
          "metadata": {},
          "output_type": "display_data"
        }
      ],
      "source": [
        "PATH = \"/home/pp26/ml/progettoDL/report/model/model_42k/seq2seq_attention_model_v4.1.weights.h5\"\n",
        "\n",
        "seq2seq.load_weights(PATH)\n",
        "seq2seq.summary()"
      ]
    },
    {
      "cell_type": "code",
      "execution_count": 30,
      "metadata": {},
      "outputs": [
        {
          "name": "stdout",
          "output_type": "stream",
          "text": [
            "================================================\n",
            "round=0\n",
            "------------------------------------------------\n",
            "mean scores=1.0000 std=0.0000\n",
            "================================================\n",
            "round=1\n",
            "------------------------------------------------\n",
            "mean scores=1.0000 std=0.0000\n",
            "================================================\n",
            "round=2\n",
            "------------------------------------------------\n",
            "mean scores=1.0000 std=0.0000\n",
            "================================================\n",
            "round=3\n",
            "------------------------------------------------\n",
            "mean scores=1.0000 std=0.0000\n",
            "================================================\n",
            "round=4\n",
            "------------------------------------------------\n",
            "mean scores=1.0000 std=0.0000\n",
            "================================================\n",
            "round=5\n",
            "------------------------------------------------\n",
            "mean scores=1.0000 std=0.0000\n",
            "================================================\n",
            "round=6\n",
            "------------------------------------------------\n",
            "mean scores=1.0000 std=0.0000\n",
            "================================================\n",
            "round=7\n",
            "------------------------------------------------\n",
            "mean scores=1.0000 std=0.0000\n",
            "================================================\n",
            "round=8\n",
            "------------------------------------------------\n",
            "mean scores=1.0000 std=0.0000\n",
            "================================================\n",
            "round=9\n",
            "------------------------------------------------\n",
            "mean scores=1.0000 std=0.0000\n",
            "================================================\n",
            "FINAL SCORE = 1.0000 STD = 0.0000\n",
            "Testing autoregressive decoding with 20 samples 5 times...\n",
            "================================================\n",
            "FINAL SCORE = 1.0000 STD = 0.0000\n",
            "Testing autoregressive decoding with 20 samples 5 times...\n",
            "================================================\n",
            "FINAL SCORE = 1.0000 STD = 0.0000\n",
            "Testing autoregressive decoding with 20 samples 5 times...\n",
            "================================================\n",
            "FINAL SCORE = 1.0000 STD = 0.0000\n",
            "Testing autoregressive decoding with 20 samples 5 times...\n",
            "================================================\n",
            "FINAL SCORE = 1.0000 STD = 0.0000\n",
            "Testing autoregressive decoding with 20 samples 5 times...\n",
            "================================================\n",
            "FINAL SCORE = 1.0000 STD = 0.0000\n",
            "~~~~~~~~~~Testing with max_depth=4~~~~~~~~~~~~\n",
            "================================================\n",
            "FINAL SCORE = 0.3600 STD = 0.0260\n"
          ]
        }
      ],
      "source": [
        "mean_pref_acc, std_pref_acc = test()\n",
        "for _ in range(5):\n",
        "    print(\"Testing autoregressive decoding with 20 samples 5 times...\")\n",
        "    mean_pref_acc, std_pref_acc = test( verbose_round=False)\n",
        "depth = 4\n",
        "print(f\"~~~~~~~~~~Testing with max_depth={depth}~~~~~~~~~~~~\")\n",
        "mean_pref_acc, std_pref_acc = test(max_depth=depth, verbose_round=False)"
      ]
    },
    {
      "cell_type": "markdown",
      "metadata": {},
      "source": [
        "The Final score remain the same for max_depth=3 and diminished a little bit for max_depth=4"
      ]
    },
    {
      "cell_type": "markdown",
      "metadata": {},
      "source": [
        "## 2. Model generalization"
      ]
    },
    {
      "cell_type": "markdown",
      "metadata": {},
      "source": [
        "I started with **batch_size**: $256$ and I applied a **dropout** to the **encoder** and to the **decoder**.  \n",
        "From previous tests we know that changing the batch size alone does not work well. The hope is that the dropout will help the model better focus on understanding the construction rules.  \n",
        "After some tries using different values of dropout and SpatialDropout1D, the code of the last model is:"
      ]
    },
    {
      "cell_type": "code",
      "execution_count": 31,
      "metadata": {},
      "outputs": [],
      "source": [
        "def create_encoder_model(vocab_size, embed_dim, enc_units):\n",
        "    enc_inputs = Input(shape=(None,), name=\"enc_inputs\")  \n",
        "    x = Embedding(input_dim=vocab_size,\n",
        "                  output_dim=embed_dim,\n",
        "                  name=\"enc_embedding\")(enc_inputs)\n",
        "    # x = SpatialDropout1D(0.15)(x) \n",
        "    enc_outputs, state_h, state_c = LSTM(enc_units,\n",
        "                                        dropout=0.35,           # 35% input→cell\n",
        "                                        recurrent_dropout=0.35, # 35%h_{t-1}→cell\n",
        "                                        return_sequences=True,\n",
        "                                        return_state=True,\n",
        "                                        name=\"encoder_lstm\")(x)\n",
        "    return Model(enc_inputs, [enc_outputs, state_h, state_c], name=\"encoder_model\")\n",
        "\n",
        "def create_decoder_model(vocab_size, embed_dim, dec_units):\n",
        "    dec_inputs = Input(shape=(None,), name=\"dec_inputs\") \n",
        "    enc_outputs = Input(shape=(None, dec_units), name=\"enc_outputs\")\n",
        "    state_h_in  = Input(shape=(dec_units,), name=\"h_in\")\n",
        "    state_c_in  = Input(shape=(dec_units,), name=\"c_in\")\n",
        "\n",
        "    x = Embedding(input_dim=vocab_size,\n",
        "                  output_dim=embed_dim,\n",
        "                  name=\"dec_embedding\")(dec_inputs)\n",
        "    # x = SpatialDropout1D(0.15)(x)  # Spatial dropout for better generalization\n",
        "    dec_outputs, state_h_out, state_c_out = LSTM(dec_units,\n",
        "                                        dropout=0.35,           # 35% input→cell\n",
        "                                        recurrent_dropout=0.35, # 35%h_{t-1}→cell\n",
        "                                        return_sequences=True,\n",
        "                                        return_state=True,\n",
        "                                        name=\"decoder_lstm\")(x,initial_state=[state_h_in, state_c_in])\n",
        "\n",
        "    context = AdditiveAttention(name=\"attention\")([dec_outputs, enc_outputs])\n",
        "    concat = Concatenate(axis=-1, name=\"concat\")([dec_outputs, context])\n",
        "    logits = Dense(vocab_size, activation=\"softmax\", name=\"vocab_dist\")(concat)\n",
        "    return Model(\n",
        "        [dec_inputs, enc_outputs, state_h_in, state_c_in],\n",
        "        [logits, state_h_out, state_c_out],\n",
        "        name=\"decoder_model\"\n",
        "    )\n"
      ]
    },
    {
      "cell_type": "code",
      "execution_count": 32,
      "metadata": {},
      "outputs": [
        {
          "data": {
            "image/png": "[encoded data removed]",
            "text/plain": [
              "<IPython.core.display.Image object>"
            ]
          },
          "metadata": {},
          "output_type": "display_data"
        }
      ],
      "source": [
        "from IPython.display import Image, display\n",
        "display(Image(filename=\"/home/pp26/ml/progettoDL/report/img/epoch_model_dropout_256_last_batch.png\"))"
      ]
    },
    {
      "cell_type": "markdown",
      "metadata": {},
      "source": [
        "We can notice that **pefix_acc** take a lot more to converge to a good result."
      ]
    },
    {
      "cell_type": "code",
      "execution_count": 33,
      "metadata": {},
      "outputs": [],
      "source": [
        "EMBED_DIM  = 32\n",
        "ENC_UNITS = 256\n",
        "DEC_UNITS = 256\n",
        "\n",
        "encoder = create_encoder_model(VOCAB_SIZE, EMBED_DIM, ENC_UNITS)\n",
        "decoder = create_decoder_model(VOCAB_SIZE, EMBED_DIM, DEC_UNITS)\n",
        "seq2seq = create_seq2seq_model(encoder, decoder)"
      ]
    },
    {
      "cell_type": "code",
      "execution_count": 34,
      "metadata": {},
      "outputs": [
        {
          "data": {
            "text/html": [
              "<pre style=\"white-space:pre;overflow-x:auto;line-height:normal;font-family:Menlo,'DejaVu Sans Mono',consolas,'Courier New',monospace\"><span style=\"font-weight: bold\">Model: \"seq2seq_model\"</span>\n",
              "</pre>\n"
            ],
            "text/plain": [
              "\u001b[1mModel: \"seq2seq_model\"\u001b[0m\n"
            ]
          },
          "metadata": {},
          "output_type": "display_data"
        },
        {
          "data": {
            "text/html": [
              "<pre style=\"white-space:pre;overflow-x:auto;line-height:normal;font-family:Menlo,'DejaVu Sans Mono',consolas,'Courier New',monospace\">┏━━━━━━━━━━━━━━━━━━━━━┳━━━━━━━━━━━━━━━━━━━┳━━━━━━━━━━━━┳━━━━━━━━━━━━━━━━━━━┓\n",
              "┃<span style=\"font-weight: bold\"> Layer (type)        </span>┃<span style=\"font-weight: bold\"> Output Shape      </span>┃<span style=\"font-weight: bold\">    Param # </span>┃<span style=\"font-weight: bold\"> Connected to      </span>┃\n",
              "┡━━━━━━━━━━━━━━━━━━━━━╇━━━━━━━━━━━━━━━━━━━╇━━━━━━━━━━━━╇━━━━━━━━━━━━━━━━━━━┩\n",
              "│ enc_inputs          │ (<span style=\"color: #00d7ff; text-decoration-color: #00d7ff\">None</span>, <span style=\"color: #00d7ff; text-decoration-color: #00d7ff\">None</span>)      │          <span style=\"color: #00af00; text-decoration-color: #00af00\">0</span> │ -                 │\n",
              "│ (<span style=\"color: #0087ff; text-decoration-color: #0087ff\">InputLayer</span>)        │                   │            │                   │\n",
              "├─────────────────────┼───────────────────┼────────────┼───────────────────┤\n",
              "│ dec_inputs          │ (<span style=\"color: #00d7ff; text-decoration-color: #00d7ff\">None</span>, <span style=\"color: #00d7ff; text-decoration-color: #00d7ff\">None</span>)      │          <span style=\"color: #00af00; text-decoration-color: #00af00\">0</span> │ -                 │\n",
              "│ (<span style=\"color: #0087ff; text-decoration-color: #0087ff\">InputLayer</span>)        │                   │            │                   │\n",
              "├─────────────────────┼───────────────────┼────────────┼───────────────────┤\n",
              "│ encoder_model       │ [(<span style=\"color: #00d7ff; text-decoration-color: #00d7ff\">None</span>, <span style=\"color: #00d7ff; text-decoration-color: #00d7ff\">None</span>,     │    <span style=\"color: #00af00; text-decoration-color: #00af00\">296,416</span> │ enc_inputs[<span style=\"color: #00af00; text-decoration-color: #00af00\">0</span>][<span style=\"color: #00af00; text-decoration-color: #00af00\">0</span>]  │\n",
              "│ (<span style=\"color: #0087ff; text-decoration-color: #0087ff\">Functional</span>)        │ <span style=\"color: #00af00; text-decoration-color: #00af00\">256</span>), (<span style=\"color: #00d7ff; text-decoration-color: #00d7ff\">None</span>,      │            │                   │\n",
              "│                     │ <span style=\"color: #00af00; text-decoration-color: #00af00\">256</span>), (<span style=\"color: #00d7ff; text-decoration-color: #00d7ff\">None</span>,      │            │                   │\n",
              "│                     │ <span style=\"color: #00af00; text-decoration-color: #00af00\">256</span>)]             │            │                   │\n",
              "├─────────────────────┼───────────────────┼────────────┼───────────────────┤\n",
              "│ decoder_model       │ [(<span style=\"color: #00d7ff; text-decoration-color: #00d7ff\">None</span>, <span style=\"color: #00d7ff; text-decoration-color: #00d7ff\">None</span>,     │    <span style=\"color: #00af00; text-decoration-color: #00af00\">304,367</span> │ dec_inputs[<span style=\"color: #00af00; text-decoration-color: #00af00\">0</span>][<span style=\"color: #00af00; text-decoration-color: #00af00\">0</span>], │\n",
              "│ (<span style=\"color: #0087ff; text-decoration-color: #0087ff\">Functional</span>)        │ <span style=\"color: #00af00; text-decoration-color: #00af00\">15</span>), (<span style=\"color: #00d7ff; text-decoration-color: #00d7ff\">None</span>, <span style=\"color: #00af00; text-decoration-color: #00af00\">256</span>), │            │ encoder_model[<span style=\"color: #00af00; text-decoration-color: #00af00\">0</span>]… │\n",
              "│                     │ (<span style=\"color: #00d7ff; text-decoration-color: #00d7ff\">None</span>, <span style=\"color: #00af00; text-decoration-color: #00af00\">256</span>)]      │            │ encoder_model[<span style=\"color: #00af00; text-decoration-color: #00af00\">0</span>]… │\n",
              "│                     │                   │            │ encoder_model[<span style=\"color: #00af00; text-decoration-color: #00af00\">0</span>]… │\n",
              "└─────────────────────┴───────────────────┴────────────┴───────────────────┘\n",
              "</pre>\n"
            ],
            "text/plain": [
              "┏━━━━━━━━━━━━━━━━━━━━━┳━━━━━━━━━━━━━━━━━━━┳━━━━━━━━━━━━┳━━━━━━━━━━━━━━━━━━━┓\n",
              "┃\u001b[1m \u001b[0m\u001b[1mLayer (type)       \u001b[0m\u001b[1m \u001b[0m┃\u001b[1m \u001b[0m\u001b[1mOutput Shape     \u001b[0m\u001b[1m \u001b[0m┃\u001b[1m \u001b[0m\u001b[1m   Param #\u001b[0m\u001b[1m \u001b[0m┃\u001b[1m \u001b[0m\u001b[1mConnected to     \u001b[0m\u001b[1m \u001b[0m┃\n",
              "┡━━━━━━━━━━━━━━━━━━━━━╇━━━━━━━━━━━━━━━━━━━╇━━━━━━━━━━━━╇━━━━━━━━━━━━━━━━━━━┩\n",
              "│ enc_inputs          │ (\u001b[38;5;45mNone\u001b[0m, \u001b[38;5;45mNone\u001b[0m)      │          \u001b[38;5;34m0\u001b[0m │ -                 │\n",
              "│ (\u001b[38;5;33mInputLayer\u001b[0m)        │                   │            │                   │\n",
              "├─────────────────────┼───────────────────┼────────────┼───────────────────┤\n",
              "│ dec_inputs          │ (\u001b[38;5;45mNone\u001b[0m, \u001b[38;5;45mNone\u001b[0m)      │          \u001b[38;5;34m0\u001b[0m │ -                 │\n",
              "│ (\u001b[38;5;33mInputLayer\u001b[0m)        │                   │            │                   │\n",
              "├─────────────────────┼───────────────────┼────────────┼───────────────────┤\n",
              "│ encoder_model       │ [(\u001b[38;5;45mNone\u001b[0m, \u001b[38;5;45mNone\u001b[0m,     │    \u001b[38;5;34m296,416\u001b[0m │ enc_inputs[\u001b[38;5;34m0\u001b[0m][\u001b[38;5;34m0\u001b[0m]  │\n",
              "│ (\u001b[38;5;33mFunctional\u001b[0m)        │ \u001b[38;5;34m256\u001b[0m), (\u001b[38;5;45mNone\u001b[0m,      │            │                   │\n",
              "│                     │ \u001b[38;5;34m256\u001b[0m), (\u001b[38;5;45mNone\u001b[0m,      │            │                   │\n",
              "│                     │ \u001b[38;5;34m256\u001b[0m)]             │            │                   │\n",
              "├─────────────────────┼───────────────────┼────────────┼───────────────────┤\n",
              "│ decoder_model       │ [(\u001b[38;5;45mNone\u001b[0m, \u001b[38;5;45mNone\u001b[0m,     │    \u001b[38;5;34m304,367\u001b[0m │ dec_inputs[\u001b[38;5;34m0\u001b[0m][\u001b[38;5;34m0\u001b[0m], │\n",
              "│ (\u001b[38;5;33mFunctional\u001b[0m)        │ \u001b[38;5;34m15\u001b[0m), (\u001b[38;5;45mNone\u001b[0m, \u001b[38;5;34m256\u001b[0m), │            │ encoder_model[\u001b[38;5;34m0\u001b[0m]… │\n",
              "│                     │ (\u001b[38;5;45mNone\u001b[0m, \u001b[38;5;34m256\u001b[0m)]      │            │ encoder_model[\u001b[38;5;34m0\u001b[0m]… │\n",
              "│                     │                   │            │ encoder_model[\u001b[38;5;34m0\u001b[0m]… │\n",
              "└─────────────────────┴───────────────────┴────────────┴───────────────────┘\n"
            ]
          },
          "metadata": {},
          "output_type": "display_data"
        },
        {
          "data": {
            "text/html": [
              "<pre style=\"white-space:pre;overflow-x:auto;line-height:normal;font-family:Menlo,'DejaVu Sans Mono',consolas,'Courier New',monospace\"><span style=\"font-weight: bold\"> Total params: </span><span style=\"color: #00af00; text-decoration-color: #00af00\">600,783</span> (2.29 MB)\n",
              "</pre>\n"
            ],
            "text/plain": [
              "\u001b[1m Total params: \u001b[0m\u001b[38;5;34m600,783\u001b[0m (2.29 MB)\n"
            ]
          },
          "metadata": {},
          "output_type": "display_data"
        },
        {
          "data": {
            "text/html": [
              "<pre style=\"white-space:pre;overflow-x:auto;line-height:normal;font-family:Menlo,'DejaVu Sans Mono',consolas,'Courier New',monospace\"><span style=\"font-weight: bold\"> Trainable params: </span><span style=\"color: #00af00; text-decoration-color: #00af00\">600,783</span> (2.29 MB)\n",
              "</pre>\n"
            ],
            "text/plain": [
              "\u001b[1m Trainable params: \u001b[0m\u001b[38;5;34m600,783\u001b[0m (2.29 MB)\n"
            ]
          },
          "metadata": {},
          "output_type": "display_data"
        },
        {
          "data": {
            "text/html": [
              "<pre style=\"white-space:pre;overflow-x:auto;line-height:normal;font-family:Menlo,'DejaVu Sans Mono',consolas,'Courier New',monospace\"><span style=\"font-weight: bold\"> Non-trainable params: </span><span style=\"color: #00af00; text-decoration-color: #00af00\">0</span> (0.00 B)\n",
              "</pre>\n"
            ],
            "text/plain": [
              "\u001b[1m Non-trainable params: \u001b[0m\u001b[38;5;34m0\u001b[0m (0.00 B)\n"
            ]
          },
          "metadata": {},
          "output_type": "display_data"
        }
      ],
      "source": [
        "PATH = \"/home/pp26/ml/progettoDL/report/model/model_dropout_256_last_batch/seq2seq_attention_model_dropout_256_last_batch.weights.h5\"\n",
        "seq2seq.load_weights(PATH)\n",
        "seq2seq.summary()"
      ]
    },
    {
      "cell_type": "code",
      "execution_count": 35,
      "metadata": {},
      "outputs": [
        {
          "name": "stdout",
          "output_type": "stream",
          "text": [
            "~~~~~~~~~~Testing with max_depth=3~~~~~~~~~~~~\n",
            "================================================\n",
            "FINAL SCORE = 0.9966 STD = 0.0054\n",
            "\n",
            "~~~~~~~~~~Testing with max_depth=4~~~~~~~~~~~~\n",
            "================================================\n",
            "FINAL SCORE = 0.4703 STD = 0.0578\n",
            "\n",
            "~~~~~~~~~~Testing with max_depth=5~~~~~~~~~~~~\n",
            "================================================\n",
            "FINAL SCORE = 0.3045 STD = 0.0556\n"
          ]
        }
      ],
      "source": [
        "print(f\"~~~~~~~~~~Testing with max_depth={3}~~~~~~~~~~~~\")\n",
        "mean_pref_acc, std_pref_acc = test( verbose_round=False)\n",
        "for depth in range(4,6):\n",
        "    print()\n",
        "    print(f\"~~~~~~~~~~Testing with max_depth={depth}~~~~~~~~~~~~\")\n",
        "    mean_pref_acc, std_pref_acc = test(max_depth=depth, verbose_round=False)"
      ]
    },
    {
      "cell_type": "markdown",
      "metadata": {},
      "source": [
        "Not big improovment but there is some in **depths** > $3$. Still not optimal for **depths**  $\\le 3$.  \n",
        "I stopped here but maybe lowering the batch size can improve the model."
      ]
    },
    {
      "cell_type": "markdown",
      "metadata": {},
      "source": [
        "---"
      ]
    },
    {
      "cell_type": "markdown",
      "metadata": {},
      "source": [
        "#### Possible Improvements to Implement\n",
        "\n",
        "* Use two separate dictionaries\n",
        "* Masked accuracy and use of “junk” tokens\n",
        "* Multi-head attention (or no attention)"
      ]
    }
  ],
  "metadata": {
    "colab": {
      "machine_shape": "hm",
      "provenance": []
    },
    "kernelspec": {
      "display_name": "Python 3 (ipykernel)",
      "language": "python",
      "name": "python3"
    },
    "language_info": {
      "codemirror_mode": {
        "name": "ipython",
        "version": 3
      },
      "file_extension": ".py",
      "mimetype": "text/x-python",
      "name": "python",
      "nbconvert_exporter": "python",
      "pygments_lexer": "ipython3",
      "version": "3.9.18"
    }
  },
  "nbformat": 4,
  "nbformat_minor": 0
}
