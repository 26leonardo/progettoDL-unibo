{
 "cells": [
  {
   "cell_type": "code",
   "execution_count": null,
   "id": "b2e7350b",
   "metadata": {},
   "outputs": [],
   "source": [
    "import os\n",
    "import random\n",
    "import numpy as np\n",
    "import tensorflow as tf\n",
    "\n",
    "def set_global_seed(seed=42):\n",
    "    print(f\"Impostazione del seed globale a {seed} per riproducibilità...\")\n",
    "\n",
    "    # Seed Python\n",
    "    random.seed(seed)\n",
    "\n",
    "    # Seed NumPy\n",
    "    np.random.seed(seed)\n",
    "\n",
    "    # Seed TensorFlow\n",
    "    tf.random.set_seed(seed)\n",
    "\n",
    "    # Impostazioni di determinismo per TensorFlow\n",
    "    os.environ['PYTHONHASHSEED'] = str(seed)\n",
    "    os.environ['TF_DETERMINISTIC_OPS'] = '1'\n",
    "    os.environ['TF_CUDNN_DETERMINISTIC'] = '1'  # solo su TF >= 2.8\n",
    "\n",
    "    # (Opzionale) Limita parallelismo se vuoi massima determinazione\n",
    "    tf.config.threading.set_inter_op_parallelism_threads(1)\n",
    "    tf.config.threading.set_intra_op_parallelism_threads(1)\n",
    "\n",
    "    print(\"Seed impostati correttamente.\\n\")\n",
    "\n",
    "# ESEMPIO DI USO\n",
    "set_global_seed(1234)\n"
   ]
  }
 ],
 "metadata": {
  "language_info": {
   "name": "python"
  }
 },
 "nbformat": 4,
 "nbformat_minor": 5
}
